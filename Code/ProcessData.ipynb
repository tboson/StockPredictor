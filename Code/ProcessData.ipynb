{
 "cells": [
  {
   "cell_type": "code",
   "execution_count": 120,
   "metadata": {},
   "outputs": [],
   "source": [
    "# data analysis and wrangling\n",
    "import pandas as pd\n",
    "import numpy as np\n",
    "import random as rnd\n",
    "import scipy as sci\n",
    "\n",
    "# visualization\n",
    "import seaborn as sns\n",
    "import matplotlib.pyplot as plt\n",
    "%matplotlib inline\n",
    "\n",
    "# machine learning\n",
    "import sklearn\n",
    "from sklearn.linear_model import LogisticRegression\n",
    "from sklearn.svm import SVC, LinearSVC\n",
    "from sklearn.ensemble import RandomForestClassifier\n",
    "from sklearn.neighbors import KNeighborsClassifier\n",
    "from sklearn.naive_bayes import GaussianNB\n",
    "from sklearn.linear_model import Perceptron\n",
    "from sklearn.linear_model import SGDClassifier\n",
    "from sklearn.tree import DecisionTreeClassifier\n",
    "from sklearn.model_selection import train_test_split\n",
    "from sklearn.metrics import accuracy_score\n",
    "from sklearn.metrics import r2_score\n",
    "\n",
    "#xgboost\n",
    "import xgboost as xgb\n",
    "from xgboost import XGBClassifier\n",
    "from xgboost import XGBRegressor\n",
    "\n",
    "#data objects\n",
    "import os\n",
    "from collections import queue"
   ]
  },
  {
   "cell_type": "code",
   "execution_count": 106,
   "metadata": {},
   "outputs": [],
   "source": [
    "#Timer function\n",
    "from datetime import datetime\n",
    "def timer(start_time=None):\n",
    "    if not start_time:\n",
    "        start_time = datetime.now()\n",
    "        return start_time\n",
    "    else:\n",
    "        duration = (datetime.now() - start_time).total_seconds()\n",
    "        print(\"Took %i seconds\" % duration)"
   ]
  },
  {
   "cell_type": "code",
   "execution_count": 14,
   "metadata": {},
   "outputs": [],
   "source": [
    "os.getcwd()\n",
    "df = pd.read_csv('../Data/train.csv')\n",
    "dt = pd.read_csv('../Data/test.csv')"
   ]
  },
  {
   "cell_type": "code",
   "execution_count": 3,
   "metadata": {},
   "outputs": [
    {
     "data": {
      "text/html": [
       "<div>\n",
       "<style scoped>\n",
       "    .dataframe tbody tr th:only-of-type {\n",
       "        vertical-align: middle;\n",
       "    }\n",
       "\n",
       "    .dataframe tbody tr th {\n",
       "        vertical-align: top;\n",
       "    }\n",
       "\n",
       "    .dataframe thead th {\n",
       "        text-align: right;\n",
       "    }\n",
       "</style>\n",
       "<table border=\"1\" class=\"dataframe\">\n",
       "  <thead>\n",
       "    <tr style=\"text-align: right;\">\n",
       "      <th></th>\n",
       "      <th>Index</th>\n",
       "      <th>Market</th>\n",
       "      <th>Day</th>\n",
       "      <th>Stock</th>\n",
       "      <th>x0</th>\n",
       "      <th>x1</th>\n",
       "      <th>x2</th>\n",
       "      <th>x3A</th>\n",
       "      <th>x3B</th>\n",
       "      <th>x3C</th>\n",
       "      <th>x3D</th>\n",
       "      <th>x3E</th>\n",
       "      <th>x4</th>\n",
       "      <th>x5</th>\n",
       "      <th>x6</th>\n",
       "      <th>y</th>\n",
       "      <th>Weight</th>\n",
       "    </tr>\n",
       "  </thead>\n",
       "  <tbody>\n",
       "    <tr>\n",
       "      <th>0</th>\n",
       "      <td>0</td>\n",
       "      <td>1</td>\n",
       "      <td>1</td>\n",
       "      <td>363</td>\n",
       "      <td>0.002696</td>\n",
       "      <td>0.530040</td>\n",
       "      <td>0.400810</td>\n",
       "      <td>1.300048e-06</td>\n",
       "      <td>4.639533e-06</td>\n",
       "      <td>1.073594e-05</td>\n",
       "      <td>0.000022</td>\n",
       "      <td>0.000044</td>\n",
       "      <td>0.002212</td>\n",
       "      <td>6.214737e-07</td>\n",
       "      <td>200.000000</td>\n",
       "      <td>-0.000196</td>\n",
       "      <td>1.533780</td>\n",
       "    </tr>\n",
       "    <tr>\n",
       "      <th>1</th>\n",
       "      <td>1</td>\n",
       "      <td>1</td>\n",
       "      <td>1</td>\n",
       "      <td>1223</td>\n",
       "      <td>0.081093</td>\n",
       "      <td>1.366218</td>\n",
       "      <td>1.325157</td>\n",
       "      <td>1.656861e-05</td>\n",
       "      <td>3.024668e-05</td>\n",
       "      <td>5.261872e-05</td>\n",
       "      <td>0.000042</td>\n",
       "      <td>0.000042</td>\n",
       "      <td>0.010932</td>\n",
       "      <td>3.414868e-05</td>\n",
       "      <td>300.000000</td>\n",
       "      <td>-0.003798</td>\n",
       "      <td>0.843604</td>\n",
       "    </tr>\n",
       "    <tr>\n",
       "      <th>2</th>\n",
       "      <td>2</td>\n",
       "      <td>1</td>\n",
       "      <td>1</td>\n",
       "      <td>1372</td>\n",
       "      <td>0.009561</td>\n",
       "      <td>0.464871</td>\n",
       "      <td>0.328008</td>\n",
       "      <td>6.500872e-08</td>\n",
       "      <td>2.323204e-07</td>\n",
       "      <td>5.182686e-07</td>\n",
       "      <td>0.000001</td>\n",
       "      <td>0.000002</td>\n",
       "      <td>0.000306</td>\n",
       "      <td>4.079460e-08</td>\n",
       "      <td>159.692076</td>\n",
       "      <td>-0.000003</td>\n",
       "      <td>29.824024</td>\n",
       "    </tr>\n",
       "  </tbody>\n",
       "</table>\n",
       "</div>"
      ],
      "text/plain": [
       "   Index  Market  Day  Stock        x0        x1        x2           x3A  \\\n",
       "0      0       1    1    363  0.002696  0.530040  0.400810  1.300048e-06   \n",
       "1      1       1    1   1223  0.081093  1.366218  1.325157  1.656861e-05   \n",
       "2      2       1    1   1372  0.009561  0.464871  0.328008  6.500872e-08   \n",
       "\n",
       "            x3B           x3C       x3D       x3E        x4            x5  \\\n",
       "0  4.639533e-06  1.073594e-05  0.000022  0.000044  0.002212  6.214737e-07   \n",
       "1  3.024668e-05  5.261872e-05  0.000042  0.000042  0.010932  3.414868e-05   \n",
       "2  2.323204e-07  5.182686e-07  0.000001  0.000002  0.000306  4.079460e-08   \n",
       "\n",
       "           x6         y     Weight  \n",
       "0  200.000000 -0.000196   1.533780  \n",
       "1  300.000000 -0.003798   0.843604  \n",
       "2  159.692076 -0.000003  29.824024  "
      ]
     },
     "execution_count": 3,
     "metadata": {},
     "output_type": "execute_result"
    }
   ],
   "source": [
    "df.head(3)"
   ]
  },
  {
   "cell_type": "code",
   "execution_count": 4,
   "metadata": {},
   "outputs": [
    {
     "data": {
      "text/plain": [
       "(623817, 17)"
      ]
     },
     "execution_count": 4,
     "metadata": {},
     "output_type": "execute_result"
    }
   ],
   "source": [
    "df.shape"
   ]
  },
  {
   "cell_type": "code",
   "execution_count": 15,
   "metadata": {},
   "outputs": [
    {
     "data": {
      "text/plain": [
       "Index(['Index', 'Market', 'Day', 'Stock', 'x0', 'x1', 'x2', 'x3A', 'x3B',\n",
       "       'x3C', 'x3D', 'x3E', 'x4', 'x5', 'x6', 'y', 'Weight'],\n",
       "      dtype='object')"
      ]
     },
     "execution_count": 15,
     "metadata": {},
     "output_type": "execute_result"
    }
   ],
   "source": [
    "c = df.columns\n",
    "c"
   ]
  },
  {
   "cell_type": "code",
   "execution_count": 58,
   "metadata": {},
   "outputs": [],
   "source": [
    "#get rid of NaN values\n",
    "#find out which columns has null values\n",
    "columns = df.columns\n",
    "for i in range(len(df.columns)):\n",
    "    index = df.index[df[columns[i]].isnull()]\n",
    "    if index.shape[0]>0:\n",
    "        print(df.columns[i],index.shape)\n",
    "        df[columns[i]] = df[columns[i]].fillna(0)\n",
    "columns2 = dt.columns\n",
    "for i in range(len(dt.columns)):\n",
    "    index2 = dt.index[dt[columns2[i]].isnull()]\n",
    "    if index2.shape[0]>0:\n",
    "        print(dt.columns[i],index2.shape)\n",
    "        dt[columns2[i]] = dt[columns2[i]].fillna(0)"
   ]
  },
  {
   "cell_type": "code",
   "execution_count": 59,
   "metadata": {},
   "outputs": [],
   "source": [
    "#training dataset and test dataset\n",
    "x_train = df.drop(['Weight','y'],axis = 1)\n",
    "x_weight = np.array(df.Weight)\n",
    "y_train = df.y\n",
    "x_test = dt"
   ]
  },
  {
   "cell_type": "code",
   "execution_count": 32,
   "metadata": {},
   "outputs": [],
   "source": [
    "#regression modules\n",
    "from sklearn.ensemble import RandomForestRegressor\n",
    "from sklearn.neighbors import KNeighborsRegressor\n",
    "from sklearn.linear_model import SGDRegressor\n",
    "from sklearn.tree import DecisionTreeRegressor"
   ]
  },
  {
   "cell_type": "code",
   "execution_count": 57,
   "metadata": {},
   "outputs": [
    {
     "data": {
      "text/plain": [
       "25.6"
      ]
     },
     "execution_count": 57,
     "metadata": {},
     "output_type": "execute_result"
    }
   ],
   "source": [
    "#KNN Regressor 25.6%\n",
    "knn = KNeighborsRegressor()\n",
    "knn.fit(x_train,y_train)\n",
    "acc_knn = round(knn.score(x_train,y_train)*100,2)\n",
    "acc_knn"
   ]
  },
  {
   "cell_type": "code",
   "execution_count": 56,
   "metadata": {},
   "outputs": [
    {
     "data": {
      "text/plain": [
       "34.48"
      ]
     },
     "execution_count": 56,
     "metadata": {},
     "output_type": "execute_result"
    }
   ],
   "source": [
    "#Random Forest 36.7%\n",
    "rf = RandomForestRegressor()\n",
    "rf.fit(x_train,y_train,sample_weight = x_weight)\n",
    "acc_rf = round(rf.score(x_train,y_train,x_weight)*100,2)\n",
    "acc_rf"
   ]
  },
  {
   "cell_type": "code",
   "execution_count": 224,
   "metadata": {},
   "outputs": [
    {
     "name": "stdout",
     "output_type": "stream",
     "text": [
      "Fold 1 accuracy: 0.08160542313407126\n",
      "Fold 2 accuracy: -0.04748002210001068\n",
      "Fold 3 accuracy: -0.017682503865019905\n",
      "Fold 4 accuracy: 0.009632548771566274\n",
      "Fold 5 accuracy: 0.0150056421368846\n",
      "Fold 6 accuracy: 0.12184604840497038\n",
      "Fold 7 accuracy: 0.14461839290483514\n",
      "Fold 8 accuracy: 0.11090489483175149\n"
     ]
    },
    {
     "ename": "KeyboardInterrupt",
     "evalue": "",
     "output_type": "error",
     "traceback": [
      "\u001b[0;31m---------------------------------------------------------------------------\u001b[0m",
      "\u001b[0;31mKeyboardInterrupt\u001b[0m                         Traceback (most recent call last)",
      "\u001b[0;32m<ipython-input-224-83f6613e5e9a>\u001b[0m in \u001b[0;36m<module>\u001b[0;34m()\u001b[0m\n\u001b[1;32m     21\u001b[0m     \u001b[0mprint\u001b[0m\u001b[0;34m(\u001b[0m\u001b[0;34m\"Mean Accuracy: {0}\"\u001b[0m\u001b[0;34m.\u001b[0m\u001b[0mformat\u001b[0m\u001b[0;34m(\u001b[0m\u001b[0mmean_outcome\u001b[0m\u001b[0;34m)\u001b[0m\u001b[0;34m)\u001b[0m\u001b[0;34m\u001b[0m\u001b[0m\n\u001b[1;32m     22\u001b[0m \u001b[0;34m\u001b[0m\u001b[0m\n\u001b[0;32m---> 23\u001b[0;31m \u001b[0mrun_kfold\u001b[0m\u001b[0;34m(\u001b[0m\u001b[0mrf\u001b[0m\u001b[0;34m)\u001b[0m\u001b[0;34m\u001b[0m\u001b[0m\n\u001b[0m",
      "\u001b[0;32m<ipython-input-224-83f6613e5e9a>\u001b[0m in \u001b[0;36mrun_kfold\u001b[0;34m(model)\u001b[0m\n\u001b[1;32m     13\u001b[0m         \u001b[0myfold_train\u001b[0m\u001b[0;34m,\u001b[0m \u001b[0myfold_test\u001b[0m \u001b[0;34m=\u001b[0m \u001b[0my_train\u001b[0m\u001b[0;34m.\u001b[0m\u001b[0mvalues\u001b[0m\u001b[0;34m[\u001b[0m\u001b[0mtrain_index\u001b[0m\u001b[0;34m]\u001b[0m\u001b[0;34m,\u001b[0m \u001b[0my_train\u001b[0m\u001b[0;34m.\u001b[0m\u001b[0mvalues\u001b[0m\u001b[0;34m[\u001b[0m\u001b[0mtest_index\u001b[0m\u001b[0;34m]\u001b[0m\u001b[0;34m\u001b[0m\u001b[0m\n\u001b[1;32m     14\u001b[0m         \u001b[0mxfold_weight\u001b[0m \u001b[0;34m=\u001b[0m \u001b[0mx_weight\u001b[0m\u001b[0;34m[\u001b[0m\u001b[0mtrain_index\u001b[0m\u001b[0;34m]\u001b[0m\u001b[0;34m\u001b[0m\u001b[0m\n\u001b[0;32m---> 15\u001b[0;31m         \u001b[0mmodel\u001b[0m\u001b[0;34m.\u001b[0m\u001b[0mfit\u001b[0m\u001b[0;34m(\u001b[0m\u001b[0mxfold_train\u001b[0m\u001b[0;34m,\u001b[0m \u001b[0myfold_train\u001b[0m\u001b[0;34m)\u001b[0m\u001b[0;34m\u001b[0m\u001b[0m\n\u001b[0m\u001b[1;32m     16\u001b[0m         \u001b[0;31m#predictions = model.predict(xfold_test)\u001b[0m\u001b[0;34m\u001b[0m\u001b[0;34m\u001b[0m\u001b[0m\n\u001b[1;32m     17\u001b[0m         \u001b[0maccuracy\u001b[0m \u001b[0;34m=\u001b[0m \u001b[0mmodel\u001b[0m\u001b[0;34m.\u001b[0m\u001b[0mscore\u001b[0m\u001b[0;34m(\u001b[0m\u001b[0mxfold_test\u001b[0m\u001b[0;34m,\u001b[0m \u001b[0myfold_test\u001b[0m\u001b[0;34m)\u001b[0m\u001b[0;34m\u001b[0m\u001b[0m\n",
      "\u001b[0;32m~/anaconda3/lib/python3.6/site-packages/sklearn/ensemble/forest.py\u001b[0m in \u001b[0;36mfit\u001b[0;34m(self, X, y, sample_weight)\u001b[0m\n\u001b[1;32m    326\u001b[0m                     \u001b[0mt\u001b[0m\u001b[0;34m,\u001b[0m \u001b[0mself\u001b[0m\u001b[0;34m,\u001b[0m \u001b[0mX\u001b[0m\u001b[0;34m,\u001b[0m \u001b[0my\u001b[0m\u001b[0;34m,\u001b[0m \u001b[0msample_weight\u001b[0m\u001b[0;34m,\u001b[0m \u001b[0mi\u001b[0m\u001b[0;34m,\u001b[0m \u001b[0mlen\u001b[0m\u001b[0;34m(\u001b[0m\u001b[0mtrees\u001b[0m\u001b[0;34m)\u001b[0m\u001b[0;34m,\u001b[0m\u001b[0;34m\u001b[0m\u001b[0m\n\u001b[1;32m    327\u001b[0m                     verbose=self.verbose, class_weight=self.class_weight)\n\u001b[0;32m--> 328\u001b[0;31m                 for i, t in enumerate(trees))\n\u001b[0m\u001b[1;32m    329\u001b[0m \u001b[0;34m\u001b[0m\u001b[0m\n\u001b[1;32m    330\u001b[0m             \u001b[0;31m# Collect newly grown trees\u001b[0m\u001b[0;34m\u001b[0m\u001b[0;34m\u001b[0m\u001b[0m\n",
      "\u001b[0;32m~/anaconda3/lib/python3.6/site-packages/sklearn/externals/joblib/parallel.py\u001b[0m in \u001b[0;36m__call__\u001b[0;34m(self, iterable)\u001b[0m\n\u001b[1;32m    777\u001b[0m             \u001b[0;31m# was dispatched. In particular this covers the edge\u001b[0m\u001b[0;34m\u001b[0m\u001b[0;34m\u001b[0m\u001b[0m\n\u001b[1;32m    778\u001b[0m             \u001b[0;31m# case of Parallel used with an exhausted iterator.\u001b[0m\u001b[0;34m\u001b[0m\u001b[0;34m\u001b[0m\u001b[0m\n\u001b[0;32m--> 779\u001b[0;31m             \u001b[0;32mwhile\u001b[0m \u001b[0mself\u001b[0m\u001b[0;34m.\u001b[0m\u001b[0mdispatch_one_batch\u001b[0m\u001b[0;34m(\u001b[0m\u001b[0miterator\u001b[0m\u001b[0;34m)\u001b[0m\u001b[0;34m:\u001b[0m\u001b[0;34m\u001b[0m\u001b[0m\n\u001b[0m\u001b[1;32m    780\u001b[0m                 \u001b[0mself\u001b[0m\u001b[0;34m.\u001b[0m\u001b[0m_iterating\u001b[0m \u001b[0;34m=\u001b[0m \u001b[0;32mTrue\u001b[0m\u001b[0;34m\u001b[0m\u001b[0m\n\u001b[1;32m    781\u001b[0m             \u001b[0;32melse\u001b[0m\u001b[0;34m:\u001b[0m\u001b[0;34m\u001b[0m\u001b[0m\n",
      "\u001b[0;32m~/anaconda3/lib/python3.6/site-packages/sklearn/externals/joblib/parallel.py\u001b[0m in \u001b[0;36mdispatch_one_batch\u001b[0;34m(self, iterator)\u001b[0m\n\u001b[1;32m    623\u001b[0m                 \u001b[0;32mreturn\u001b[0m \u001b[0;32mFalse\u001b[0m\u001b[0;34m\u001b[0m\u001b[0m\n\u001b[1;32m    624\u001b[0m             \u001b[0;32melse\u001b[0m\u001b[0;34m:\u001b[0m\u001b[0;34m\u001b[0m\u001b[0m\n\u001b[0;32m--> 625\u001b[0;31m                 \u001b[0mself\u001b[0m\u001b[0;34m.\u001b[0m\u001b[0m_dispatch\u001b[0m\u001b[0;34m(\u001b[0m\u001b[0mtasks\u001b[0m\u001b[0;34m)\u001b[0m\u001b[0;34m\u001b[0m\u001b[0m\n\u001b[0m\u001b[1;32m    626\u001b[0m                 \u001b[0;32mreturn\u001b[0m \u001b[0;32mTrue\u001b[0m\u001b[0;34m\u001b[0m\u001b[0m\n\u001b[1;32m    627\u001b[0m \u001b[0;34m\u001b[0m\u001b[0m\n",
      "\u001b[0;32m~/anaconda3/lib/python3.6/site-packages/sklearn/externals/joblib/parallel.py\u001b[0m in \u001b[0;36m_dispatch\u001b[0;34m(self, batch)\u001b[0m\n\u001b[1;32m    586\u001b[0m         \u001b[0mdispatch_timestamp\u001b[0m \u001b[0;34m=\u001b[0m \u001b[0mtime\u001b[0m\u001b[0;34m.\u001b[0m\u001b[0mtime\u001b[0m\u001b[0;34m(\u001b[0m\u001b[0;34m)\u001b[0m\u001b[0;34m\u001b[0m\u001b[0m\n\u001b[1;32m    587\u001b[0m         \u001b[0mcb\u001b[0m \u001b[0;34m=\u001b[0m \u001b[0mBatchCompletionCallBack\u001b[0m\u001b[0;34m(\u001b[0m\u001b[0mdispatch_timestamp\u001b[0m\u001b[0;34m,\u001b[0m \u001b[0mlen\u001b[0m\u001b[0;34m(\u001b[0m\u001b[0mbatch\u001b[0m\u001b[0;34m)\u001b[0m\u001b[0;34m,\u001b[0m \u001b[0mself\u001b[0m\u001b[0;34m)\u001b[0m\u001b[0;34m\u001b[0m\u001b[0m\n\u001b[0;32m--> 588\u001b[0;31m         \u001b[0mjob\u001b[0m \u001b[0;34m=\u001b[0m \u001b[0mself\u001b[0m\u001b[0;34m.\u001b[0m\u001b[0m_backend\u001b[0m\u001b[0;34m.\u001b[0m\u001b[0mapply_async\u001b[0m\u001b[0;34m(\u001b[0m\u001b[0mbatch\u001b[0m\u001b[0;34m,\u001b[0m \u001b[0mcallback\u001b[0m\u001b[0;34m=\u001b[0m\u001b[0mcb\u001b[0m\u001b[0;34m)\u001b[0m\u001b[0;34m\u001b[0m\u001b[0m\n\u001b[0m\u001b[1;32m    589\u001b[0m         \u001b[0mself\u001b[0m\u001b[0;34m.\u001b[0m\u001b[0m_jobs\u001b[0m\u001b[0;34m.\u001b[0m\u001b[0mappend\u001b[0m\u001b[0;34m(\u001b[0m\u001b[0mjob\u001b[0m\u001b[0;34m)\u001b[0m\u001b[0;34m\u001b[0m\u001b[0m\n\u001b[1;32m    590\u001b[0m \u001b[0;34m\u001b[0m\u001b[0m\n",
      "\u001b[0;32m~/anaconda3/lib/python3.6/site-packages/sklearn/externals/joblib/_parallel_backends.py\u001b[0m in \u001b[0;36mapply_async\u001b[0;34m(self, func, callback)\u001b[0m\n\u001b[1;32m    109\u001b[0m     \u001b[0;32mdef\u001b[0m \u001b[0mapply_async\u001b[0m\u001b[0;34m(\u001b[0m\u001b[0mself\u001b[0m\u001b[0;34m,\u001b[0m \u001b[0mfunc\u001b[0m\u001b[0;34m,\u001b[0m \u001b[0mcallback\u001b[0m\u001b[0;34m=\u001b[0m\u001b[0;32mNone\u001b[0m\u001b[0;34m)\u001b[0m\u001b[0;34m:\u001b[0m\u001b[0;34m\u001b[0m\u001b[0m\n\u001b[1;32m    110\u001b[0m         \u001b[0;34m\"\"\"Schedule a func to be run\"\"\"\u001b[0m\u001b[0;34m\u001b[0m\u001b[0m\n\u001b[0;32m--> 111\u001b[0;31m         \u001b[0mresult\u001b[0m \u001b[0;34m=\u001b[0m \u001b[0mImmediateResult\u001b[0m\u001b[0;34m(\u001b[0m\u001b[0mfunc\u001b[0m\u001b[0;34m)\u001b[0m\u001b[0;34m\u001b[0m\u001b[0m\n\u001b[0m\u001b[1;32m    112\u001b[0m         \u001b[0;32mif\u001b[0m \u001b[0mcallback\u001b[0m\u001b[0;34m:\u001b[0m\u001b[0;34m\u001b[0m\u001b[0m\n\u001b[1;32m    113\u001b[0m             \u001b[0mcallback\u001b[0m\u001b[0;34m(\u001b[0m\u001b[0mresult\u001b[0m\u001b[0;34m)\u001b[0m\u001b[0;34m\u001b[0m\u001b[0m\n",
      "\u001b[0;32m~/anaconda3/lib/python3.6/site-packages/sklearn/externals/joblib/_parallel_backends.py\u001b[0m in \u001b[0;36m__init__\u001b[0;34m(self, batch)\u001b[0m\n\u001b[1;32m    330\u001b[0m         \u001b[0;31m# Don't delay the application, to avoid keeping the input\u001b[0m\u001b[0;34m\u001b[0m\u001b[0;34m\u001b[0m\u001b[0m\n\u001b[1;32m    331\u001b[0m         \u001b[0;31m# arguments in memory\u001b[0m\u001b[0;34m\u001b[0m\u001b[0;34m\u001b[0m\u001b[0m\n\u001b[0;32m--> 332\u001b[0;31m         \u001b[0mself\u001b[0m\u001b[0;34m.\u001b[0m\u001b[0mresults\u001b[0m \u001b[0;34m=\u001b[0m \u001b[0mbatch\u001b[0m\u001b[0;34m(\u001b[0m\u001b[0;34m)\u001b[0m\u001b[0;34m\u001b[0m\u001b[0m\n\u001b[0m\u001b[1;32m    333\u001b[0m \u001b[0;34m\u001b[0m\u001b[0m\n\u001b[1;32m    334\u001b[0m     \u001b[0;32mdef\u001b[0m \u001b[0mget\u001b[0m\u001b[0;34m(\u001b[0m\u001b[0mself\u001b[0m\u001b[0;34m)\u001b[0m\u001b[0;34m:\u001b[0m\u001b[0;34m\u001b[0m\u001b[0m\n",
      "\u001b[0;32m~/anaconda3/lib/python3.6/site-packages/sklearn/externals/joblib/parallel.py\u001b[0m in \u001b[0;36m__call__\u001b[0;34m(self)\u001b[0m\n\u001b[1;32m    129\u001b[0m \u001b[0;34m\u001b[0m\u001b[0m\n\u001b[1;32m    130\u001b[0m     \u001b[0;32mdef\u001b[0m \u001b[0m__call__\u001b[0m\u001b[0;34m(\u001b[0m\u001b[0mself\u001b[0m\u001b[0;34m)\u001b[0m\u001b[0;34m:\u001b[0m\u001b[0;34m\u001b[0m\u001b[0m\n\u001b[0;32m--> 131\u001b[0;31m         \u001b[0;32mreturn\u001b[0m \u001b[0;34m[\u001b[0m\u001b[0mfunc\u001b[0m\u001b[0;34m(\u001b[0m\u001b[0;34m*\u001b[0m\u001b[0margs\u001b[0m\u001b[0;34m,\u001b[0m \u001b[0;34m**\u001b[0m\u001b[0mkwargs\u001b[0m\u001b[0;34m)\u001b[0m \u001b[0;32mfor\u001b[0m \u001b[0mfunc\u001b[0m\u001b[0;34m,\u001b[0m \u001b[0margs\u001b[0m\u001b[0;34m,\u001b[0m \u001b[0mkwargs\u001b[0m \u001b[0;32min\u001b[0m \u001b[0mself\u001b[0m\u001b[0;34m.\u001b[0m\u001b[0mitems\u001b[0m\u001b[0;34m]\u001b[0m\u001b[0;34m\u001b[0m\u001b[0m\n\u001b[0m\u001b[1;32m    132\u001b[0m \u001b[0;34m\u001b[0m\u001b[0m\n\u001b[1;32m    133\u001b[0m     \u001b[0;32mdef\u001b[0m \u001b[0m__len__\u001b[0m\u001b[0;34m(\u001b[0m\u001b[0mself\u001b[0m\u001b[0;34m)\u001b[0m\u001b[0;34m:\u001b[0m\u001b[0;34m\u001b[0m\u001b[0m\n",
      "\u001b[0;32m~/anaconda3/lib/python3.6/site-packages/sklearn/externals/joblib/parallel.py\u001b[0m in \u001b[0;36m<listcomp>\u001b[0;34m(.0)\u001b[0m\n\u001b[1;32m    129\u001b[0m \u001b[0;34m\u001b[0m\u001b[0m\n\u001b[1;32m    130\u001b[0m     \u001b[0;32mdef\u001b[0m \u001b[0m__call__\u001b[0m\u001b[0;34m(\u001b[0m\u001b[0mself\u001b[0m\u001b[0;34m)\u001b[0m\u001b[0;34m:\u001b[0m\u001b[0;34m\u001b[0m\u001b[0m\n\u001b[0;32m--> 131\u001b[0;31m         \u001b[0;32mreturn\u001b[0m \u001b[0;34m[\u001b[0m\u001b[0mfunc\u001b[0m\u001b[0;34m(\u001b[0m\u001b[0;34m*\u001b[0m\u001b[0margs\u001b[0m\u001b[0;34m,\u001b[0m \u001b[0;34m**\u001b[0m\u001b[0mkwargs\u001b[0m\u001b[0;34m)\u001b[0m \u001b[0;32mfor\u001b[0m \u001b[0mfunc\u001b[0m\u001b[0;34m,\u001b[0m \u001b[0margs\u001b[0m\u001b[0;34m,\u001b[0m \u001b[0mkwargs\u001b[0m \u001b[0;32min\u001b[0m \u001b[0mself\u001b[0m\u001b[0;34m.\u001b[0m\u001b[0mitems\u001b[0m\u001b[0;34m]\u001b[0m\u001b[0;34m\u001b[0m\u001b[0m\n\u001b[0m\u001b[1;32m    132\u001b[0m \u001b[0;34m\u001b[0m\u001b[0m\n\u001b[1;32m    133\u001b[0m     \u001b[0;32mdef\u001b[0m \u001b[0m__len__\u001b[0m\u001b[0;34m(\u001b[0m\u001b[0mself\u001b[0m\u001b[0;34m)\u001b[0m\u001b[0;34m:\u001b[0m\u001b[0;34m\u001b[0m\u001b[0m\n",
      "\u001b[0;32m~/anaconda3/lib/python3.6/site-packages/sklearn/ensemble/forest.py\u001b[0m in \u001b[0;36m_parallel_build_trees\u001b[0;34m(tree, forest, X, y, sample_weight, tree_idx, n_trees, verbose, class_weight)\u001b[0m\n\u001b[1;32m    119\u001b[0m             \u001b[0mcurr_sample_weight\u001b[0m \u001b[0;34m*=\u001b[0m \u001b[0mcompute_sample_weight\u001b[0m\u001b[0;34m(\u001b[0m\u001b[0;34m'balanced'\u001b[0m\u001b[0;34m,\u001b[0m \u001b[0my\u001b[0m\u001b[0;34m,\u001b[0m \u001b[0mindices\u001b[0m\u001b[0;34m)\u001b[0m\u001b[0;34m\u001b[0m\u001b[0m\n\u001b[1;32m    120\u001b[0m \u001b[0;34m\u001b[0m\u001b[0m\n\u001b[0;32m--> 121\u001b[0;31m         \u001b[0mtree\u001b[0m\u001b[0;34m.\u001b[0m\u001b[0mfit\u001b[0m\u001b[0;34m(\u001b[0m\u001b[0mX\u001b[0m\u001b[0;34m,\u001b[0m \u001b[0my\u001b[0m\u001b[0;34m,\u001b[0m \u001b[0msample_weight\u001b[0m\u001b[0;34m=\u001b[0m\u001b[0mcurr_sample_weight\u001b[0m\u001b[0;34m,\u001b[0m \u001b[0mcheck_input\u001b[0m\u001b[0;34m=\u001b[0m\u001b[0;32mFalse\u001b[0m\u001b[0;34m)\u001b[0m\u001b[0;34m\u001b[0m\u001b[0m\n\u001b[0m\u001b[1;32m    122\u001b[0m     \u001b[0;32melse\u001b[0m\u001b[0;34m:\u001b[0m\u001b[0;34m\u001b[0m\u001b[0m\n\u001b[1;32m    123\u001b[0m         \u001b[0mtree\u001b[0m\u001b[0;34m.\u001b[0m\u001b[0mfit\u001b[0m\u001b[0;34m(\u001b[0m\u001b[0mX\u001b[0m\u001b[0;34m,\u001b[0m \u001b[0my\u001b[0m\u001b[0;34m,\u001b[0m \u001b[0msample_weight\u001b[0m\u001b[0;34m=\u001b[0m\u001b[0msample_weight\u001b[0m\u001b[0;34m,\u001b[0m \u001b[0mcheck_input\u001b[0m\u001b[0;34m=\u001b[0m\u001b[0;32mFalse\u001b[0m\u001b[0;34m)\u001b[0m\u001b[0;34m\u001b[0m\u001b[0m\n",
      "\u001b[0;32m~/anaconda3/lib/python3.6/site-packages/sklearn/tree/tree.py\u001b[0m in \u001b[0;36mfit\u001b[0;34m(self, X, y, sample_weight, check_input, X_idx_sorted)\u001b[0m\n\u001b[1;32m   1122\u001b[0m             \u001b[0msample_weight\u001b[0m\u001b[0;34m=\u001b[0m\u001b[0msample_weight\u001b[0m\u001b[0;34m,\u001b[0m\u001b[0;34m\u001b[0m\u001b[0m\n\u001b[1;32m   1123\u001b[0m             \u001b[0mcheck_input\u001b[0m\u001b[0;34m=\u001b[0m\u001b[0mcheck_input\u001b[0m\u001b[0;34m,\u001b[0m\u001b[0;34m\u001b[0m\u001b[0m\n\u001b[0;32m-> 1124\u001b[0;31m             X_idx_sorted=X_idx_sorted)\n\u001b[0m\u001b[1;32m   1125\u001b[0m         \u001b[0;32mreturn\u001b[0m \u001b[0mself\u001b[0m\u001b[0;34m\u001b[0m\u001b[0m\n\u001b[1;32m   1126\u001b[0m \u001b[0;34m\u001b[0m\u001b[0m\n",
      "\u001b[0;32m~/anaconda3/lib/python3.6/site-packages/sklearn/tree/tree.py\u001b[0m in \u001b[0;36mfit\u001b[0;34m(self, X, y, sample_weight, check_input, X_idx_sorted)\u001b[0m\n\u001b[1;32m    360\u001b[0m                                            min_impurity_split)\n\u001b[1;32m    361\u001b[0m \u001b[0;34m\u001b[0m\u001b[0m\n\u001b[0;32m--> 362\u001b[0;31m         \u001b[0mbuilder\u001b[0m\u001b[0;34m.\u001b[0m\u001b[0mbuild\u001b[0m\u001b[0;34m(\u001b[0m\u001b[0mself\u001b[0m\u001b[0;34m.\u001b[0m\u001b[0mtree_\u001b[0m\u001b[0;34m,\u001b[0m \u001b[0mX\u001b[0m\u001b[0;34m,\u001b[0m \u001b[0my\u001b[0m\u001b[0;34m,\u001b[0m \u001b[0msample_weight\u001b[0m\u001b[0;34m,\u001b[0m \u001b[0mX_idx_sorted\u001b[0m\u001b[0;34m)\u001b[0m\u001b[0;34m\u001b[0m\u001b[0m\n\u001b[0m\u001b[1;32m    363\u001b[0m \u001b[0;34m\u001b[0m\u001b[0m\n\u001b[1;32m    364\u001b[0m         \u001b[0;32mif\u001b[0m \u001b[0mself\u001b[0m\u001b[0;34m.\u001b[0m\u001b[0mn_outputs_\u001b[0m \u001b[0;34m==\u001b[0m \u001b[0;36m1\u001b[0m\u001b[0;34m:\u001b[0m\u001b[0;34m\u001b[0m\u001b[0m\n",
      "\u001b[0;31mKeyboardInterrupt\u001b[0m: "
     ]
    }
   ],
   "source": [
    "\n",
    "#using random forest regressor, very low, around 10%\n",
    "# kfold returns array indexes\n",
    "from sklearn.model_selection import KFold\n",
    "from sklearn.metrics import accuracy_score\n",
    "\n",
    "def run_kfold(model):\n",
    "    kf = KFold(n_splits=10)\n",
    "    outcomes = []\n",
    "    fold = 0\n",
    "    for train_index, test_index in kf.split(x_train):\n",
    "        fold += 1\n",
    "        xfold_train, xfold_test = x_train.values[train_index], x_train.values[test_index]\n",
    "        yfold_train, yfold_test = y_train.values[train_index], y_train.values[test_index]\n",
    "        xfold_weight = x_weight[train_index]\n",
    "        model.fit(xfold_train, yfold_train)\n",
    "        #predictions = model.predict(xfold_test)\n",
    "        accuracy = model.score(xfold_test, yfold_test)\n",
    "        outcomes.append(accuracy)\n",
    "        print(\"Fold {0} accuracy: {1}\".format(fold, accuracy))     \n",
    "    mean_outcome = np.mean(outcomes)\n",
    "    print(\"Mean Accuracy: {0}\".format(mean_outcome)) \n",
    "\n",
    "run_kfold(rf)"
   ]
  },
  {
   "cell_type": "code",
   "execution_count": 66,
   "metadata": {},
   "outputs": [
    {
     "data": {
      "text/plain": [
       "(0.1222598308639286, {'min_samples_split': 4, 'n_estimators': 40})"
      ]
     },
     "execution_count": 66,
     "metadata": {},
     "output_type": "execute_result"
    }
   ],
   "source": [
    "# gridsearchCV\n",
    "# what parameters are there for random forest regressor?\n",
    "# best fit parameter: max_depth = 6, min_weight_fraction_leaf = 0.001,\n",
    "# n_estimators = 40, min_sample_split = 4\n",
    "from sklearn.model_selection import GridSearchCV\n",
    "def RFTuneParameter(x_train, y_train, weight):\n",
    "    rf = RandomForestRegressor(max_depth = 6, min_weight_fraction_leaf = 0.001)\n",
    "    param_grid = { \n",
    "            \"min_samples_split\"        : [3, 4],\n",
    "            \"n_estimators\"             : [30, 40]     \n",
    "            }\n",
    "    rfcv = GridSearchCV(rf,param_grid)\n",
    "    if type(weight)==str:\n",
    "        rfcv.fit(x_train,y_train)\n",
    "    else:\n",
    "        rfcv.fit(x_train,y_train,weight)\n",
    "    return rfcv.best_score_, rfcv.best_params_\n",
    "RFTuneParameter(x_train,y_train,x_weight)"
   ]
  },
  {
   "cell_type": "code",
   "execution_count": 78,
   "metadata": {},
   "outputs": [
    {
     "data": {
      "text/plain": [
       "Index\n",
       "0    0.000008\n",
       "1    0.000008\n",
       "2    0.000008\n",
       "3    0.000008\n",
       "4    0.000008\n",
       "Name: y, dtype: float64"
      ]
     },
     "execution_count": 78,
     "metadata": {},
     "output_type": "execute_result"
    }
   ],
   "source": [
    "# predict with best fit parameters\n",
    "rf = RandomForestRegressor(max_depth = 6, min_weight_fraction_leaf = 0.001, n_estimators = 40, min_samples_split = 4)\n",
    "rf.fit(x_train, y_train, x_weight)\n",
    "yp = pd.Series(rf.predict(x_test)).rename('y')\n",
    "yp.index.name = 'Index'\n",
    "yp.head()"
   ]
  },
  {
   "cell_type": "code",
   "execution_count": 81,
   "metadata": {},
   "outputs": [],
   "source": [
    "yp.to_csv('RandomForestRegressor_model.csv', header=True)"
   ]
  },
  {
   "cell_type": "code",
   "execution_count": 80,
   "metadata": {},
   "outputs": [
    {
     "data": {
      "text/plain": [
       "([<matplotlib.axis.XTick at 0x1a168b8160>,\n",
       "  <matplotlib.axis.XTick at 0x1a16700470>,\n",
       "  <matplotlib.axis.XTick at 0x1a16e5d550>,\n",
       "  <matplotlib.axis.XTick at 0x112a9dc88>,\n",
       "  <matplotlib.axis.XTick at 0x1a188d22e8>,\n",
       "  <matplotlib.axis.XTick at 0x1a193ecd30>,\n",
       "  <matplotlib.axis.XTick at 0x1a18985f98>,\n",
       "  <matplotlib.axis.XTick at 0x1a16e7b940>,\n",
       "  <matplotlib.axis.XTick at 0x1a16e7b3c8>,\n",
       "  <matplotlib.axis.XTick at 0x1a16e72b70>,\n",
       "  <matplotlib.axis.XTick at 0x1a16e72cc0>,\n",
       "  <matplotlib.axis.XTick at 0x1a19c1e588>,\n",
       "  <matplotlib.axis.XTick at 0x1a19c1ec18>,\n",
       "  <matplotlib.axis.XTick at 0x1a166e1080>,\n",
       "  <matplotlib.axis.XTick at 0x1a197d2588>],\n",
       " <a list of 15 Text xticklabel objects>)"
      ]
     },
     "execution_count": 80,
     "metadata": {},
     "output_type": "execute_result"
    },
    {
     "data": {
      "image/png": "[encoded data removed]",
      "text/plain": [
       "<matplotlib.figure.Figure at 0x112ab7f98>"
      ]
     },
     "metadata": {},
     "output_type": "display_data"
    }
   ],
   "source": [
    "#get feature importance from random forest regression\n",
    "importance = rf.feature_importances_\n",
    "plt.bar(range(x_train.shape[1]),importance)\n",
    "plt.xticks(range(x_train.shape[1]),x_train.columns)"
   ]
  },
  {
   "cell_type": "code",
   "execution_count": 47,
   "metadata": {},
   "outputs": [
    {
     "data": {
      "text/plain": [
       "XGBRegressor(base_score=0.5, booster='gbtree', colsample_bylevel=1,\n",
       "       colsample_bytree=1, gamma=0, learning_rate=0.1, max_delta_step=0,\n",
       "       max_depth=3, min_child_weight=1, missing=None, n_estimators=100,\n",
       "       n_jobs=1, nthread=None, objective='reg:linear', random_state=0,\n",
       "       reg_alpha=0, reg_lambda=1, scale_pos_weight=1, seed=None,\n",
       "       silent=True, subsample=1)"
      ]
     },
     "execution_count": 47,
     "metadata": {},
     "output_type": "execute_result"
    }
   ],
   "source": [
    "model = XGBRegressor()\n",
    "model.fit(x_train, y_train)\n",
    "# xgb.DMatrix?\n",
    "# print(df.shape)\n",
    "# #dtrain.size()\n",
    "# dtest.num_row()\n",
    "# dtrain.num_col()\n",
    "# print(dtrain.get_label())\n",
    "# dtest.get_label()\n",
    "# # specify parameters via map\n",
    "\n",
    "# bst = xgb.train(param, dtrain, num_round)\n",
    "# # # make prediction\n",
    "# # ntree_limit must not be 0\n",
    "# preds = bst.predict(dtest, ntree_limit=num_round)"
   ]
  },
  {
   "cell_type": "code",
   "execution_count": 49,
   "metadata": {},
   "outputs": [],
   "source": [
    "# predict result with trained model\n",
    "yp = pd.Series(model.predict(x_test)).rename('y')\n",
    "yp.index.name = 'Index'"
   ]
  },
  {
   "cell_type": "code",
   "execution_count": 50,
   "metadata": {},
   "outputs": [],
   "source": [
    "# save predicted data to csv\n",
    "yp.to_csv('XGBoostRegressor_model.csv', header=True)"
   ]
  },
  {
   "cell_type": "code",
   "execution_count": 70,
   "metadata": {},
   "outputs": [
    {
     "data": {
      "text/plain": [
       "(0.1407272804994852,\n",
       " {'learning_rate': 0.1, 'max_depth': 4, 'min_child_weight': 5})"
      ]
     },
     "execution_count": 70,
     "metadata": {},
     "output_type": "execute_result"
    }
   ],
   "source": [
    "# gridsearchCV\n",
    "# tune parameters for XGBoost\n",
    "# best fit parameter: learning_rate = 0.1, max_depth = 4, min_child_weight = 5\n",
    "from sklearn.model_selection import GridSearchCV\n",
    "def XGBTuneParameter(x_train, y_train, weight):\n",
    "    xgb_model = XGBRegressor()\n",
    "    param_grid = { \n",
    "            \"max_depth\"                    : [3, 4],\n",
    "            \"min_child_weight\"             : [5, 10],\n",
    "            \"learning_rate\"                : [0.1, 0.2]\n",
    "            }\n",
    "    xgbcv = GridSearchCV(xgb_model,param_grid)\n",
    "    if type(weight)==str:\n",
    "        xgbcv.fit(x_train,y_train)\n",
    "    else:\n",
    "        xgbcv.fit(x_train,y_train,weight)\n",
    "    return xgbcv.best_score_, xgbcv.best_params_\n",
    "XGBTuneParameter(x_train,y_train,x_weight)"
   ]
  },
  {
   "cell_type": "code",
   "execution_count": 73,
   "metadata": {},
   "outputs": [
    {
     "data": {
      "text/plain": [
       "XGBRegressor(base_score=0.5, booster='gbtree', colsample_bylevel=1,\n",
       "       colsample_bytree=1, gamma=0, learning_rate=0.1, max_delta_step=0,\n",
       "       max_depth=4, min_child_weight=5, missing=None, n_estimators=100,\n",
       "       n_jobs=1, nthread=None, objective='reg:linear', random_state=0,\n",
       "       reg_alpha=0, reg_lambda=1, scale_pos_weight=1, seed=None,\n",
       "       silent=True, subsample=1)"
      ]
     },
     "execution_count": 73,
     "metadata": {},
     "output_type": "execute_result"
    }
   ],
   "source": [
    "#XGB Regressor with tuned parameter\n",
    "XGBmodel = XGBRegressor(learning_rate = 0.1, max_depth = 4, min_child_weight = 5)\n",
    "XGBmodel.fit(x_train, y_train, x_weight)"
   ]
  },
  {
   "cell_type": "code",
   "execution_count": 78,
   "metadata": {},
   "outputs": [
    {
     "name": "stdout",
     "output_type": "stream",
     "text": [
      "0.3807020927645891\n",
      "0.22363900491363542\n"
     ]
    }
   ],
   "source": [
    "#compare score tuned vs untuned: 0.38 vs 0.22\n",
    "print(XGBmodel.score(x_train, y_train, x_weight))\n",
    "print(model.score(x_train, y_train))"
   ]
  },
  {
   "cell_type": "code",
   "execution_count": 79,
   "metadata": {},
   "outputs": [],
   "source": [
    "# predict result with trained model\n",
    "yp = pd.Series(XGBmodel.predict(x_test)).rename('y')\n",
    "yp.index.name = 'Index'"
   ]
  },
  {
   "cell_type": "code",
   "execution_count": 80,
   "metadata": {},
   "outputs": [],
   "source": [
    "# save predicted data to csv\n",
    "yp.to_csv('XGBRegressor_tuned1.csv', header=True)"
   ]
  },
  {
   "cell_type": "code",
   "execution_count": 82,
   "metadata": {},
   "outputs": [
    {
     "ename": "KeyboardInterrupt",
     "evalue": "",
     "output_type": "error",
     "traceback": [
      "\u001b[0;31m---------------------------------------------------------------------------\u001b[0m",
      "\u001b[0;31mKeyboardInterrupt\u001b[0m                         Traceback (most recent call last)",
      "\u001b[0;32m<ipython-input-82-f081346e5d93>\u001b[0m in \u001b[0;36m<module>\u001b[0;34m()\u001b[0m\n\u001b[1;32m     17\u001b[0m     \u001b[0mprint\u001b[0m\u001b[0;34m(\u001b[0m\u001b[0mxgbcv\u001b[0m\u001b[0;34m.\u001b[0m\u001b[0mbest_params_\u001b[0m\u001b[0;34m)\u001b[0m\u001b[0;34m\u001b[0m\u001b[0m\n\u001b[1;32m     18\u001b[0m     \u001b[0;32mreturn\u001b[0m \u001b[0mxgbcv\u001b[0m\u001b[0;34m\u001b[0m\u001b[0m\n\u001b[0;32m---> 19\u001b[0;31m \u001b[0mtuned2\u001b[0m \u001b[0;34m=\u001b[0m \u001b[0mXGBTuneParameter\u001b[0m\u001b[0;34m(\u001b[0m\u001b[0mx_train\u001b[0m\u001b[0;34m,\u001b[0m\u001b[0my_train\u001b[0m\u001b[0;34m,\u001b[0m\u001b[0mx_weight\u001b[0m\u001b[0;34m)\u001b[0m\u001b[0;34m\u001b[0m\u001b[0m\n\u001b[0m",
      "\u001b[0;32m<ipython-input-82-f081346e5d93>\u001b[0m in \u001b[0;36mXGBTuneParameter\u001b[0;34m(x_train, y_train, weight)\u001b[0m\n\u001b[1;32m     13\u001b[0m         \u001b[0mxgbcv\u001b[0m\u001b[0;34m.\u001b[0m\u001b[0mfit\u001b[0m\u001b[0;34m(\u001b[0m\u001b[0mx_train\u001b[0m\u001b[0;34m,\u001b[0m\u001b[0my_train\u001b[0m\u001b[0;34m)\u001b[0m\u001b[0;34m\u001b[0m\u001b[0m\n\u001b[1;32m     14\u001b[0m     \u001b[0;32melse\u001b[0m\u001b[0;34m:\u001b[0m\u001b[0;34m\u001b[0m\u001b[0m\n\u001b[0;32m---> 15\u001b[0;31m         \u001b[0mxgbcv\u001b[0m\u001b[0;34m.\u001b[0m\u001b[0mfit\u001b[0m\u001b[0;34m(\u001b[0m\u001b[0mx_train\u001b[0m\u001b[0;34m,\u001b[0m\u001b[0my_train\u001b[0m\u001b[0;34m,\u001b[0m\u001b[0mweight\u001b[0m\u001b[0;34m)\u001b[0m\u001b[0;34m\u001b[0m\u001b[0m\n\u001b[0m\u001b[1;32m     16\u001b[0m     \u001b[0mprint\u001b[0m\u001b[0;34m(\u001b[0m\u001b[0mxgbcv\u001b[0m\u001b[0;34m.\u001b[0m\u001b[0mbest_score_\u001b[0m\u001b[0;34m)\u001b[0m\u001b[0;34m\u001b[0m\u001b[0m\n\u001b[1;32m     17\u001b[0m     \u001b[0mprint\u001b[0m\u001b[0;34m(\u001b[0m\u001b[0mxgbcv\u001b[0m\u001b[0;34m.\u001b[0m\u001b[0mbest_params_\u001b[0m\u001b[0;34m)\u001b[0m\u001b[0;34m\u001b[0m\u001b[0m\n",
      "\u001b[0;32m~/anaconda3/lib/python3.6/site-packages/sklearn/model_selection/_search.py\u001b[0m in \u001b[0;36mfit\u001b[0;34m(self, X, y, groups, **fit_params)\u001b[0m\n\u001b[1;32m    637\u001b[0m                                   error_score=self.error_score)\n\u001b[1;32m    638\u001b[0m           for parameters, (train, test) in product(candidate_params,\n\u001b[0;32m--> 639\u001b[0;31m                                                    cv.split(X, y, groups)))\n\u001b[0m\u001b[1;32m    640\u001b[0m \u001b[0;34m\u001b[0m\u001b[0m\n\u001b[1;32m    641\u001b[0m         \u001b[0;31m# if one choose to see train score, \"out\" will contain train score info\u001b[0m\u001b[0;34m\u001b[0m\u001b[0;34m\u001b[0m\u001b[0m\n",
      "\u001b[0;32m~/anaconda3/lib/python3.6/site-packages/sklearn/externals/joblib/parallel.py\u001b[0m in \u001b[0;36m__call__\u001b[0;34m(self, iterable)\u001b[0m\n\u001b[1;32m    777\u001b[0m             \u001b[0;31m# was dispatched. In particular this covers the edge\u001b[0m\u001b[0;34m\u001b[0m\u001b[0;34m\u001b[0m\u001b[0m\n\u001b[1;32m    778\u001b[0m             \u001b[0;31m# case of Parallel used with an exhausted iterator.\u001b[0m\u001b[0;34m\u001b[0m\u001b[0;34m\u001b[0m\u001b[0m\n\u001b[0;32m--> 779\u001b[0;31m             \u001b[0;32mwhile\u001b[0m \u001b[0mself\u001b[0m\u001b[0;34m.\u001b[0m\u001b[0mdispatch_one_batch\u001b[0m\u001b[0;34m(\u001b[0m\u001b[0miterator\u001b[0m\u001b[0;34m)\u001b[0m\u001b[0;34m:\u001b[0m\u001b[0;34m\u001b[0m\u001b[0m\n\u001b[0m\u001b[1;32m    780\u001b[0m                 \u001b[0mself\u001b[0m\u001b[0;34m.\u001b[0m\u001b[0m_iterating\u001b[0m \u001b[0;34m=\u001b[0m \u001b[0;32mTrue\u001b[0m\u001b[0;34m\u001b[0m\u001b[0m\n\u001b[1;32m    781\u001b[0m             \u001b[0;32melse\u001b[0m\u001b[0;34m:\u001b[0m\u001b[0;34m\u001b[0m\u001b[0m\n",
      "\u001b[0;32m~/anaconda3/lib/python3.6/site-packages/sklearn/externals/joblib/parallel.py\u001b[0m in \u001b[0;36mdispatch_one_batch\u001b[0;34m(self, iterator)\u001b[0m\n\u001b[1;32m    623\u001b[0m                 \u001b[0;32mreturn\u001b[0m \u001b[0;32mFalse\u001b[0m\u001b[0;34m\u001b[0m\u001b[0m\n\u001b[1;32m    624\u001b[0m             \u001b[0;32melse\u001b[0m\u001b[0;34m:\u001b[0m\u001b[0;34m\u001b[0m\u001b[0m\n\u001b[0;32m--> 625\u001b[0;31m                 \u001b[0mself\u001b[0m\u001b[0;34m.\u001b[0m\u001b[0m_dispatch\u001b[0m\u001b[0;34m(\u001b[0m\u001b[0mtasks\u001b[0m\u001b[0;34m)\u001b[0m\u001b[0;34m\u001b[0m\u001b[0m\n\u001b[0m\u001b[1;32m    626\u001b[0m                 \u001b[0;32mreturn\u001b[0m \u001b[0;32mTrue\u001b[0m\u001b[0;34m\u001b[0m\u001b[0m\n\u001b[1;32m    627\u001b[0m \u001b[0;34m\u001b[0m\u001b[0m\n",
      "\u001b[0;32m~/anaconda3/lib/python3.6/site-packages/sklearn/externals/joblib/parallel.py\u001b[0m in \u001b[0;36m_dispatch\u001b[0;34m(self, batch)\u001b[0m\n\u001b[1;32m    586\u001b[0m         \u001b[0mdispatch_timestamp\u001b[0m \u001b[0;34m=\u001b[0m \u001b[0mtime\u001b[0m\u001b[0;34m.\u001b[0m\u001b[0mtime\u001b[0m\u001b[0;34m(\u001b[0m\u001b[0;34m)\u001b[0m\u001b[0;34m\u001b[0m\u001b[0m\n\u001b[1;32m    587\u001b[0m         \u001b[0mcb\u001b[0m \u001b[0;34m=\u001b[0m \u001b[0mBatchCompletionCallBack\u001b[0m\u001b[0;34m(\u001b[0m\u001b[0mdispatch_timestamp\u001b[0m\u001b[0;34m,\u001b[0m \u001b[0mlen\u001b[0m\u001b[0;34m(\u001b[0m\u001b[0mbatch\u001b[0m\u001b[0;34m)\u001b[0m\u001b[0;34m,\u001b[0m \u001b[0mself\u001b[0m\u001b[0;34m)\u001b[0m\u001b[0;34m\u001b[0m\u001b[0m\n\u001b[0;32m--> 588\u001b[0;31m         \u001b[0mjob\u001b[0m \u001b[0;34m=\u001b[0m \u001b[0mself\u001b[0m\u001b[0;34m.\u001b[0m\u001b[0m_backend\u001b[0m\u001b[0;34m.\u001b[0m\u001b[0mapply_async\u001b[0m\u001b[0;34m(\u001b[0m\u001b[0mbatch\u001b[0m\u001b[0;34m,\u001b[0m \u001b[0mcallback\u001b[0m\u001b[0;34m=\u001b[0m\u001b[0mcb\u001b[0m\u001b[0;34m)\u001b[0m\u001b[0;34m\u001b[0m\u001b[0m\n\u001b[0m\u001b[1;32m    589\u001b[0m         \u001b[0mself\u001b[0m\u001b[0;34m.\u001b[0m\u001b[0m_jobs\u001b[0m\u001b[0;34m.\u001b[0m\u001b[0mappend\u001b[0m\u001b[0;34m(\u001b[0m\u001b[0mjob\u001b[0m\u001b[0;34m)\u001b[0m\u001b[0;34m\u001b[0m\u001b[0m\n\u001b[1;32m    590\u001b[0m \u001b[0;34m\u001b[0m\u001b[0m\n",
      "\u001b[0;32m~/anaconda3/lib/python3.6/site-packages/sklearn/externals/joblib/_parallel_backends.py\u001b[0m in \u001b[0;36mapply_async\u001b[0;34m(self, func, callback)\u001b[0m\n\u001b[1;32m    109\u001b[0m     \u001b[0;32mdef\u001b[0m \u001b[0mapply_async\u001b[0m\u001b[0;34m(\u001b[0m\u001b[0mself\u001b[0m\u001b[0;34m,\u001b[0m \u001b[0mfunc\u001b[0m\u001b[0;34m,\u001b[0m \u001b[0mcallback\u001b[0m\u001b[0;34m=\u001b[0m\u001b[0;32mNone\u001b[0m\u001b[0;34m)\u001b[0m\u001b[0;34m:\u001b[0m\u001b[0;34m\u001b[0m\u001b[0m\n\u001b[1;32m    110\u001b[0m         \u001b[0;34m\"\"\"Schedule a func to be run\"\"\"\u001b[0m\u001b[0;34m\u001b[0m\u001b[0m\n\u001b[0;32m--> 111\u001b[0;31m         \u001b[0mresult\u001b[0m \u001b[0;34m=\u001b[0m \u001b[0mImmediateResult\u001b[0m\u001b[0;34m(\u001b[0m\u001b[0mfunc\u001b[0m\u001b[0;34m)\u001b[0m\u001b[0;34m\u001b[0m\u001b[0m\n\u001b[0m\u001b[1;32m    112\u001b[0m         \u001b[0;32mif\u001b[0m \u001b[0mcallback\u001b[0m\u001b[0;34m:\u001b[0m\u001b[0;34m\u001b[0m\u001b[0m\n\u001b[1;32m    113\u001b[0m             \u001b[0mcallback\u001b[0m\u001b[0;34m(\u001b[0m\u001b[0mresult\u001b[0m\u001b[0;34m)\u001b[0m\u001b[0;34m\u001b[0m\u001b[0m\n",
      "\u001b[0;32m~/anaconda3/lib/python3.6/site-packages/sklearn/externals/joblib/_parallel_backends.py\u001b[0m in \u001b[0;36m__init__\u001b[0;34m(self, batch)\u001b[0m\n\u001b[1;32m    330\u001b[0m         \u001b[0;31m# Don't delay the application, to avoid keeping the input\u001b[0m\u001b[0;34m\u001b[0m\u001b[0;34m\u001b[0m\u001b[0m\n\u001b[1;32m    331\u001b[0m         \u001b[0;31m# arguments in memory\u001b[0m\u001b[0;34m\u001b[0m\u001b[0;34m\u001b[0m\u001b[0m\n\u001b[0;32m--> 332\u001b[0;31m         \u001b[0mself\u001b[0m\u001b[0;34m.\u001b[0m\u001b[0mresults\u001b[0m \u001b[0;34m=\u001b[0m \u001b[0mbatch\u001b[0m\u001b[0;34m(\u001b[0m\u001b[0;34m)\u001b[0m\u001b[0;34m\u001b[0m\u001b[0m\n\u001b[0m\u001b[1;32m    333\u001b[0m \u001b[0;34m\u001b[0m\u001b[0m\n\u001b[1;32m    334\u001b[0m     \u001b[0;32mdef\u001b[0m \u001b[0mget\u001b[0m\u001b[0;34m(\u001b[0m\u001b[0mself\u001b[0m\u001b[0;34m)\u001b[0m\u001b[0;34m:\u001b[0m\u001b[0;34m\u001b[0m\u001b[0m\n",
      "\u001b[0;32m~/anaconda3/lib/python3.6/site-packages/sklearn/externals/joblib/parallel.py\u001b[0m in \u001b[0;36m__call__\u001b[0;34m(self)\u001b[0m\n\u001b[1;32m    129\u001b[0m \u001b[0;34m\u001b[0m\u001b[0m\n\u001b[1;32m    130\u001b[0m     \u001b[0;32mdef\u001b[0m \u001b[0m__call__\u001b[0m\u001b[0;34m(\u001b[0m\u001b[0mself\u001b[0m\u001b[0;34m)\u001b[0m\u001b[0;34m:\u001b[0m\u001b[0;34m\u001b[0m\u001b[0m\n\u001b[0;32m--> 131\u001b[0;31m         \u001b[0;32mreturn\u001b[0m \u001b[0;34m[\u001b[0m\u001b[0mfunc\u001b[0m\u001b[0;34m(\u001b[0m\u001b[0;34m*\u001b[0m\u001b[0margs\u001b[0m\u001b[0;34m,\u001b[0m \u001b[0;34m**\u001b[0m\u001b[0mkwargs\u001b[0m\u001b[0;34m)\u001b[0m \u001b[0;32mfor\u001b[0m \u001b[0mfunc\u001b[0m\u001b[0;34m,\u001b[0m \u001b[0margs\u001b[0m\u001b[0;34m,\u001b[0m \u001b[0mkwargs\u001b[0m \u001b[0;32min\u001b[0m \u001b[0mself\u001b[0m\u001b[0;34m.\u001b[0m\u001b[0mitems\u001b[0m\u001b[0;34m]\u001b[0m\u001b[0;34m\u001b[0m\u001b[0m\n\u001b[0m\u001b[1;32m    132\u001b[0m \u001b[0;34m\u001b[0m\u001b[0m\n\u001b[1;32m    133\u001b[0m     \u001b[0;32mdef\u001b[0m \u001b[0m__len__\u001b[0m\u001b[0;34m(\u001b[0m\u001b[0mself\u001b[0m\u001b[0;34m)\u001b[0m\u001b[0;34m:\u001b[0m\u001b[0;34m\u001b[0m\u001b[0m\n",
      "\u001b[0;32m~/anaconda3/lib/python3.6/site-packages/sklearn/externals/joblib/parallel.py\u001b[0m in \u001b[0;36m<listcomp>\u001b[0;34m(.0)\u001b[0m\n\u001b[1;32m    129\u001b[0m \u001b[0;34m\u001b[0m\u001b[0m\n\u001b[1;32m    130\u001b[0m     \u001b[0;32mdef\u001b[0m \u001b[0m__call__\u001b[0m\u001b[0;34m(\u001b[0m\u001b[0mself\u001b[0m\u001b[0;34m)\u001b[0m\u001b[0;34m:\u001b[0m\u001b[0;34m\u001b[0m\u001b[0m\n\u001b[0;32m--> 131\u001b[0;31m         \u001b[0;32mreturn\u001b[0m \u001b[0;34m[\u001b[0m\u001b[0mfunc\u001b[0m\u001b[0;34m(\u001b[0m\u001b[0;34m*\u001b[0m\u001b[0margs\u001b[0m\u001b[0;34m,\u001b[0m \u001b[0;34m**\u001b[0m\u001b[0mkwargs\u001b[0m\u001b[0;34m)\u001b[0m \u001b[0;32mfor\u001b[0m \u001b[0mfunc\u001b[0m\u001b[0;34m,\u001b[0m \u001b[0margs\u001b[0m\u001b[0;34m,\u001b[0m \u001b[0mkwargs\u001b[0m \u001b[0;32min\u001b[0m \u001b[0mself\u001b[0m\u001b[0;34m.\u001b[0m\u001b[0mitems\u001b[0m\u001b[0;34m]\u001b[0m\u001b[0;34m\u001b[0m\u001b[0m\n\u001b[0m\u001b[1;32m    132\u001b[0m \u001b[0;34m\u001b[0m\u001b[0m\n\u001b[1;32m    133\u001b[0m     \u001b[0;32mdef\u001b[0m \u001b[0m__len__\u001b[0m\u001b[0;34m(\u001b[0m\u001b[0mself\u001b[0m\u001b[0;34m)\u001b[0m\u001b[0;34m:\u001b[0m\u001b[0;34m\u001b[0m\u001b[0m\n",
      "\u001b[0;32m~/anaconda3/lib/python3.6/site-packages/sklearn/model_selection/_validation.py\u001b[0m in \u001b[0;36m_fit_and_score\u001b[0;34m(estimator, X, y, scorer, train, test, verbose, parameters, fit_params, return_train_score, return_parameters, return_n_test_samples, return_times, error_score)\u001b[0m\n\u001b[1;32m    456\u001b[0m             \u001b[0mestimator\u001b[0m\u001b[0;34m.\u001b[0m\u001b[0mfit\u001b[0m\u001b[0;34m(\u001b[0m\u001b[0mX_train\u001b[0m\u001b[0;34m,\u001b[0m \u001b[0;34m**\u001b[0m\u001b[0mfit_params\u001b[0m\u001b[0;34m)\u001b[0m\u001b[0;34m\u001b[0m\u001b[0m\n\u001b[1;32m    457\u001b[0m         \u001b[0;32melse\u001b[0m\u001b[0;34m:\u001b[0m\u001b[0;34m\u001b[0m\u001b[0m\n\u001b[0;32m--> 458\u001b[0;31m             \u001b[0mestimator\u001b[0m\u001b[0;34m.\u001b[0m\u001b[0mfit\u001b[0m\u001b[0;34m(\u001b[0m\u001b[0mX_train\u001b[0m\u001b[0;34m,\u001b[0m \u001b[0my_train\u001b[0m\u001b[0;34m,\u001b[0m \u001b[0;34m**\u001b[0m\u001b[0mfit_params\u001b[0m\u001b[0;34m)\u001b[0m\u001b[0;34m\u001b[0m\u001b[0m\n\u001b[0m\u001b[1;32m    459\u001b[0m \u001b[0;34m\u001b[0m\u001b[0m\n\u001b[1;32m    460\u001b[0m     \u001b[0;32mexcept\u001b[0m \u001b[0mException\u001b[0m \u001b[0;32mas\u001b[0m \u001b[0me\u001b[0m\u001b[0;34m:\u001b[0m\u001b[0;34m\u001b[0m\u001b[0m\n",
      "\u001b[0;32m~/anaconda3/lib/python3.6/site-packages/xgboost-0.7-py3.6.egg/xgboost/sklearn.py\u001b[0m in \u001b[0;36mfit\u001b[0;34m(self, X, y, sample_weight, eval_set, eval_metric, early_stopping_rounds, verbose, xgb_model)\u001b[0m\n\u001b[1;32m    291\u001b[0m                               \u001b[0mearly_stopping_rounds\u001b[0m\u001b[0;34m=\u001b[0m\u001b[0mearly_stopping_rounds\u001b[0m\u001b[0;34m,\u001b[0m\u001b[0;34m\u001b[0m\u001b[0m\n\u001b[1;32m    292\u001b[0m                               \u001b[0mevals_result\u001b[0m\u001b[0;34m=\u001b[0m\u001b[0mevals_result\u001b[0m\u001b[0;34m,\u001b[0m \u001b[0mobj\u001b[0m\u001b[0;34m=\u001b[0m\u001b[0mobj\u001b[0m\u001b[0;34m,\u001b[0m \u001b[0mfeval\u001b[0m\u001b[0;34m=\u001b[0m\u001b[0mfeval\u001b[0m\u001b[0;34m,\u001b[0m\u001b[0;34m\u001b[0m\u001b[0m\n\u001b[0;32m--> 293\u001b[0;31m                               verbose_eval=verbose, xgb_model=xgb_model)\n\u001b[0m\u001b[1;32m    294\u001b[0m \u001b[0;34m\u001b[0m\u001b[0m\n\u001b[1;32m    295\u001b[0m         \u001b[0;32mif\u001b[0m \u001b[0mevals_result\u001b[0m\u001b[0;34m:\u001b[0m\u001b[0;34m\u001b[0m\u001b[0m\n",
      "\u001b[0;32m~/anaconda3/lib/python3.6/site-packages/xgboost-0.7-py3.6.egg/xgboost/training.py\u001b[0m in \u001b[0;36mtrain\u001b[0;34m(params, dtrain, num_boost_round, evals, obj, feval, maximize, early_stopping_rounds, evals_result, verbose_eval, xgb_model, callbacks, learning_rates)\u001b[0m\n\u001b[1;32m    202\u001b[0m                            \u001b[0mevals\u001b[0m\u001b[0;34m=\u001b[0m\u001b[0mevals\u001b[0m\u001b[0;34m,\u001b[0m\u001b[0;34m\u001b[0m\u001b[0m\n\u001b[1;32m    203\u001b[0m                            \u001b[0mobj\u001b[0m\u001b[0;34m=\u001b[0m\u001b[0mobj\u001b[0m\u001b[0;34m,\u001b[0m \u001b[0mfeval\u001b[0m\u001b[0;34m=\u001b[0m\u001b[0mfeval\u001b[0m\u001b[0;34m,\u001b[0m\u001b[0;34m\u001b[0m\u001b[0m\n\u001b[0;32m--> 204\u001b[0;31m                            xgb_model=xgb_model, callbacks=callbacks)\n\u001b[0m\u001b[1;32m    205\u001b[0m \u001b[0;34m\u001b[0m\u001b[0m\n\u001b[1;32m    206\u001b[0m \u001b[0;34m\u001b[0m\u001b[0m\n",
      "\u001b[0;32m~/anaconda3/lib/python3.6/site-packages/xgboost-0.7-py3.6.egg/xgboost/training.py\u001b[0m in \u001b[0;36m_train_internal\u001b[0;34m(params, dtrain, num_boost_round, evals, obj, feval, xgb_model, callbacks)\u001b[0m\n\u001b[1;32m     72\u001b[0m         \u001b[0;31m# Skip the first update if it is a recovery step.\u001b[0m\u001b[0;34m\u001b[0m\u001b[0;34m\u001b[0m\u001b[0m\n\u001b[1;32m     73\u001b[0m         \u001b[0;32mif\u001b[0m \u001b[0mversion\u001b[0m \u001b[0;34m%\u001b[0m \u001b[0;36m2\u001b[0m \u001b[0;34m==\u001b[0m \u001b[0;36m0\u001b[0m\u001b[0;34m:\u001b[0m\u001b[0;34m\u001b[0m\u001b[0m\n\u001b[0;32m---> 74\u001b[0;31m             \u001b[0mbst\u001b[0m\u001b[0;34m.\u001b[0m\u001b[0mupdate\u001b[0m\u001b[0;34m(\u001b[0m\u001b[0mdtrain\u001b[0m\u001b[0;34m,\u001b[0m \u001b[0mi\u001b[0m\u001b[0;34m,\u001b[0m \u001b[0mobj\u001b[0m\u001b[0;34m)\u001b[0m\u001b[0;34m\u001b[0m\u001b[0m\n\u001b[0m\u001b[1;32m     75\u001b[0m             \u001b[0mbst\u001b[0m\u001b[0;34m.\u001b[0m\u001b[0msave_rabit_checkpoint\u001b[0m\u001b[0;34m(\u001b[0m\u001b[0;34m)\u001b[0m\u001b[0;34m\u001b[0m\u001b[0m\n\u001b[1;32m     76\u001b[0m             \u001b[0mversion\u001b[0m \u001b[0;34m+=\u001b[0m \u001b[0;36m1\u001b[0m\u001b[0;34m\u001b[0m\u001b[0m\n",
      "\u001b[0;32m~/anaconda3/lib/python3.6/site-packages/xgboost-0.7-py3.6.egg/xgboost/core.py\u001b[0m in \u001b[0;36mupdate\u001b[0;34m(self, dtrain, iteration, fobj)\u001b[0m\n\u001b[1;32m    893\u001b[0m         \u001b[0;32mif\u001b[0m \u001b[0mfobj\u001b[0m \u001b[0;32mis\u001b[0m \u001b[0;32mNone\u001b[0m\u001b[0;34m:\u001b[0m\u001b[0;34m\u001b[0m\u001b[0m\n\u001b[1;32m    894\u001b[0m             _check_call(_LIB.XGBoosterUpdateOneIter(self.handle, ctypes.c_int(iteration),\n\u001b[0;32m--> 895\u001b[0;31m                                                     dtrain.handle))\n\u001b[0m\u001b[1;32m    896\u001b[0m         \u001b[0;32melse\u001b[0m\u001b[0;34m:\u001b[0m\u001b[0;34m\u001b[0m\u001b[0m\n\u001b[1;32m    897\u001b[0m             \u001b[0mpred\u001b[0m \u001b[0;34m=\u001b[0m \u001b[0mself\u001b[0m\u001b[0;34m.\u001b[0m\u001b[0mpredict\u001b[0m\u001b[0;34m(\u001b[0m\u001b[0mdtrain\u001b[0m\u001b[0;34m)\u001b[0m\u001b[0;34m\u001b[0m\u001b[0m\n",
      "\u001b[0;31mKeyboardInterrupt\u001b[0m: "
     ]
    }
   ],
   "source": [
    "# gridsearchCV part 2\n",
    "# tune parameters for XGBoost\n",
    "# best fit parameter: learning_rate = 0.1, max_depth = 4, min_child_weight = 5\n",
    "from sklearn.model_selection import GridSearchCV\n",
    "def XGBTuneParameter(x_train, y_train, weight):\n",
    "    xgb_model = XGBRegressor(learning_rate = 0.1, max_depth = 4)\n",
    "    param_grid = { \n",
    "            \"n_estimators\"                 : [100, 80],\n",
    "            \"min_child_weight\"             : [3, 5],\n",
    "            }\n",
    "    xgbcv = GridSearchCV(xgb_model,param_grid)\n",
    "    if type(weight)==str:\n",
    "        xgbcv.fit(x_train,y_train)\n",
    "    else:\n",
    "        xgbcv.fit(x_train,y_train,weight)\n",
    "    print(xgbcv.best_score_)\n",
    "    print(xgbcv.best_params_)\n",
    "    return xgbcv\n",
    "tuned2 = XGBTuneParameter(x_train,y_train,x_weight)"
   ]
  },
  {
   "cell_type": "code",
   "execution_count": 83,
   "metadata": {},
   "outputs": [
    {
     "name": "stdout",
     "output_type": "stream",
     "text": [
      "0.26109954897242504\n"
     ]
    }
   ],
   "source": [
    "#XGB Regressor with tuned parameter 0.26\n",
    "XGBmodel = XGBRegressor(learning_rate = 0.1, max_depth = 4, min_child_weight = 4, n_estimators = 80)\n",
    "XGBmodel.fit(x_train, y_train, x_weight)\n",
    "print(XGBmodel.score(x_train, y_train, x_weight))"
   ]
  },
  {
   "cell_type": "code",
   "execution_count": 88,
   "metadata": {},
   "outputs": [
    {
     "name": "stdout",
     "output_type": "stream",
     "text": [
      "0.39353081542661794\n"
     ]
    }
   ],
   "source": [
    "#XGB Regressor with tuned parameter 0.39\n",
    "XGBmodel = XGBRegressor(learning_rate = 0.1, max_depth = 4, min_child_weight = 4, n_estimators = 120)\n",
    "XGBmodel.fit(x_train, y_train, x_weight)\n",
    "print(XGBmodel.score(x_train, y_train, x_weight))"
   ]
  },
  {
   "cell_type": "code",
   "execution_count": 85,
   "metadata": {},
   "outputs": [],
   "source": [
    "# predict result with trained model\n",
    "yp = pd.Series(XGBmodel.predict(x_test)).rename('y')\n",
    "yp.index.name = 'Index'"
   ]
  },
  {
   "cell_type": "code",
   "execution_count": 86,
   "metadata": {},
   "outputs": [],
   "source": [
    "# save predicted data to csv\n",
    "yp.to_csv('XGBRegressor_tuned2.csv', header=True)"
   ]
  },
  {
   "cell_type": "code",
   "execution_count": 87,
   "metadata": {},
   "outputs": [
    {
     "name": "stdout",
     "output_type": "stream",
     "text": [
      "0.39224280287707114\n"
     ]
    }
   ],
   "source": [
    "#XGB Regressor with tuned parameter 0.39\n",
    "XGBmodel = XGBRegressor(learning_rate = 0.1, max_depth = 4, min_child_weight = 5, n_estimators = 160)\n",
    "XGBmodel.fit(x_train, y_train, x_weight)\n",
    "print(XGBmodel.score(x_train, y_train, x_weight))"
   ]
  },
  {
   "cell_type": "code",
   "execution_count": 132,
   "metadata": {},
   "outputs": [],
   "source": [
    "#Split training data set into train and test\n",
    "train_df, test_df = train_test_split(df, test_size = 0.5)"
   ]
  },
  {
   "cell_type": "code",
   "execution_count": 133,
   "metadata": {},
   "outputs": [],
   "source": [
    "#training dataset and test dataset\n",
    "x_split_train = train_df.drop(['Weight','y'],axis = 1)\n",
    "x_split_train_weight = np.array(train_df.Weight)\n",
    "y_split_train = train_df.y\n",
    "\n",
    "x_split_test = test_df.drop(['Weight','y'],axis = 1)\n",
    "y_split_test = test_df.y\n"
   ]
  },
  {
   "cell_type": "code",
   "execution_count": 151,
   "metadata": {},
   "outputs": [
    {
     "name": "stdout",
     "output_type": "stream",
     "text": [
      "[0]\tvalidation_0-logloss:0.597855\tvalidation_1-logloss:0.597855\n",
      "Multiple eval metrics have been passed: 'validation_1-logloss' will be used for early stopping.\n",
      "\n",
      "Will train until validation_1-logloss hasn't improved in 10 rounds.\n",
      "[1]\tvalidation_0-logloss:0.519227\tvalidation_1-logloss:0.519227\n",
      "[2]\tvalidation_0-logloss:0.453391\tvalidation_1-logloss:0.453391\n",
      "[3]\tvalidation_0-logloss:0.397633\tvalidation_1-logloss:0.397633\n",
      "[4]\tvalidation_0-logloss:0.349979\tvalidation_1-logloss:0.349979\n",
      "[5]\tvalidation_0-logloss:0.308951\tvalidation_1-logloss:0.308951\n",
      "[6]\tvalidation_0-logloss:0.273414\tvalidation_1-logloss:0.273414\n",
      "[7]\tvalidation_0-logloss:0.242477\tvalidation_1-logloss:0.242477\n",
      "[8]\tvalidation_0-logloss:0.21543\tvalidation_1-logloss:0.21543\n",
      "[9]\tvalidation_0-logloss:0.191704\tvalidation_1-logloss:0.191704\n",
      "[10]\tvalidation_0-logloss:0.170818\tvalidation_1-logloss:0.170819\n",
      "[11]\tvalidation_0-logloss:0.152388\tvalidation_1-logloss:0.152389\n",
      "[12]\tvalidation_0-logloss:0.136093\tvalidation_1-logloss:0.136094\n",
      "[13]\tvalidation_0-logloss:0.121651\tvalidation_1-logloss:0.121651\n",
      "[14]\tvalidation_0-logloss:0.108831\tvalidation_1-logloss:0.108832\n",
      "[15]\tvalidation_0-logloss:0.097432\tvalidation_1-logloss:0.097433\n",
      "[16]\tvalidation_0-logloss:0.087282\tvalidation_1-logloss:0.087283\n",
      "[17]\tvalidation_0-logloss:0.078238\tvalidation_1-logloss:0.078239\n",
      "[18]\tvalidation_0-logloss:0.070169\tvalidation_1-logloss:0.07017\n",
      "[19]\tvalidation_0-logloss:0.062962\tvalidation_1-logloss:0.062963\n",
      "[20]\tvalidation_0-logloss:0.056523\tvalidation_1-logloss:0.056523\n",
      "[21]\tvalidation_0-logloss:0.050761\tvalidation_1-logloss:0.050761\n",
      "[22]\tvalidation_0-logloss:0.045607\tvalidation_1-logloss:0.045607\n",
      "[23]\tvalidation_0-logloss:0.040989\tvalidation_1-logloss:0.040989\n",
      "[24]\tvalidation_0-logloss:0.036853\tvalidation_1-logloss:0.036853\n",
      "[25]\tvalidation_0-logloss:0.033146\tvalidation_1-logloss:0.033147\n",
      "[26]\tvalidation_0-logloss:0.029824\tvalidation_1-logloss:0.029824\n",
      "[27]\tvalidation_0-logloss:0.026841\tvalidation_1-logloss:0.026842\n",
      "[28]\tvalidation_0-logloss:0.024165\tvalidation_1-logloss:0.024165\n",
      "[29]\tvalidation_0-logloss:0.021765\tvalidation_1-logloss:0.021766\n",
      "[30]\tvalidation_0-logloss:0.019611\tvalidation_1-logloss:0.019611\n",
      "[31]\tvalidation_0-logloss:0.017677\tvalidation_1-logloss:0.017678\n",
      "[32]\tvalidation_0-logloss:0.015938\tvalidation_1-logloss:0.015939\n",
      "[33]\tvalidation_0-logloss:0.014379\tvalidation_1-logloss:0.01438\n",
      "[34]\tvalidation_0-logloss:0.012976\tvalidation_1-logloss:0.012977\n",
      "[35]\tvalidation_0-logloss:0.011717\tvalidation_1-logloss:0.011718\n",
      "[36]\tvalidation_0-logloss:0.010585\tvalidation_1-logloss:0.010586\n",
      "[37]\tvalidation_0-logloss:0.009569\tvalidation_1-logloss:0.009571\n",
      "[38]\tvalidation_0-logloss:0.008655\tvalidation_1-logloss:0.008657\n",
      "[39]\tvalidation_0-logloss:0.007834\tvalidation_1-logloss:0.007836\n",
      "[40]\tvalidation_0-logloss:0.007095\tvalidation_1-logloss:0.007098\n",
      "[41]\tvalidation_0-logloss:0.006427\tvalidation_1-logloss:0.006436\n",
      "[42]\tvalidation_0-logloss:0.005826\tvalidation_1-logloss:0.005838\n",
      "[43]\tvalidation_0-logloss:0.005286\tvalidation_1-logloss:0.005301\n",
      "[44]\tvalidation_0-logloss:0.004786\tvalidation_1-logloss:0.004813\n",
      "[45]\tvalidation_0-logloss:0.004346\tvalidation_1-logloss:0.004372\n",
      "[46]\tvalidation_0-logloss:0.003944\tvalidation_1-logloss:0.003979\n",
      "[47]\tvalidation_0-logloss:0.00358\tvalidation_1-logloss:0.003623\n",
      "[48]\tvalidation_0-logloss:0.003249\tvalidation_1-logloss:0.003297\n",
      "[49]\tvalidation_0-logloss:0.00295\tvalidation_1-logloss:0.003001\n",
      "[50]\tvalidation_0-logloss:0.002668\tvalidation_1-logloss:0.002724\n",
      "[51]\tvalidation_0-logloss:0.00241\tvalidation_1-logloss:0.002473\n",
      "[52]\tvalidation_0-logloss:0.002173\tvalidation_1-logloss:0.002244\n",
      "[53]\tvalidation_0-logloss:0.001959\tvalidation_1-logloss:0.002033\n",
      "[54]\tvalidation_0-logloss:0.001761\tvalidation_1-logloss:0.001846\n",
      "[55]\tvalidation_0-logloss:0.001582\tvalidation_1-logloss:0.001668\n",
      "[56]\tvalidation_0-logloss:0.001413\tvalidation_1-logloss:0.001505\n",
      "[57]\tvalidation_0-logloss:0.001254\tvalidation_1-logloss:0.00134\n",
      "[58]\tvalidation_0-logloss:0.001106\tvalidation_1-logloss:0.001188\n",
      "[59]\tvalidation_0-logloss:0.000961\tvalidation_1-logloss:0.001045\n",
      "[60]\tvalidation_0-logloss:0.000824\tvalidation_1-logloss:0.000915\n",
      "[61]\tvalidation_0-logloss:0.000698\tvalidation_1-logloss:0.000786\n",
      "[62]\tvalidation_0-logloss:0.000571\tvalidation_1-logloss:0.000665\n",
      "[63]\tvalidation_0-logloss:0.000453\tvalidation_1-logloss:0.000545\n",
      "[64]\tvalidation_0-logloss:0.000333\tvalidation_1-logloss:0.000431\n",
      "[65]\tvalidation_0-logloss:0.000225\tvalidation_1-logloss:0.000322\n",
      "[66]\tvalidation_0-logloss:0.000124\tvalidation_1-logloss:0.000227\n",
      "[67]\tvalidation_0-logloss:2.2e-05\tvalidation_1-logloss:0.000133\n",
      "[68]\tvalidation_0-logloss:-6.7e-05\tvalidation_1-logloss:4.5e-05\n",
      "[69]\tvalidation_0-logloss:-0.000148\tvalidation_1-logloss:-3.9e-05\n",
      "[70]\tvalidation_0-logloss:-0.000227\tvalidation_1-logloss:-0.000108\n",
      "[71]\tvalidation_0-logloss:-0.000309\tvalidation_1-logloss:-0.000189\n",
      "[72]\tvalidation_0-logloss:-0.000379\tvalidation_1-logloss:-0.000261\n",
      "[73]\tvalidation_0-logloss:-0.000445\tvalidation_1-logloss:-0.000325\n",
      "[74]\tvalidation_0-logloss:-0.000509\tvalidation_1-logloss:-0.000387\n",
      "[75]\tvalidation_0-logloss:-0.000581\tvalidation_1-logloss:-0.000451\n",
      "[76]\tvalidation_0-logloss:-0.000639\tvalidation_1-logloss:-0.000514\n",
      "[77]\tvalidation_0-logloss:-0.000697\tvalidation_1-logloss:-0.000568\n",
      "[78]\tvalidation_0-logloss:-0.00075\tvalidation_1-logloss:-0.000631\n",
      "[79]\tvalidation_0-logloss:-0.000817\tvalidation_1-logloss:-0.000696\n",
      "[80]\tvalidation_0-logloss:-0.000888\tvalidation_1-logloss:-0.000774\n",
      "[81]\tvalidation_0-logloss:-0.000933\tvalidation_1-logloss:-0.000817\n",
      "[82]\tvalidation_0-logloss:-0.000973\tvalidation_1-logloss:-0.000859\n",
      "[83]\tvalidation_0-logloss:-0.001004\tvalidation_1-logloss:-0.000893\n",
      "[84]\tvalidation_0-logloss:-0.001036\tvalidation_1-logloss:-0.000924\n",
      "[85]\tvalidation_0-logloss:-0.001066\tvalidation_1-logloss:-0.00095\n",
      "[86]\tvalidation_0-logloss:-0.001092\tvalidation_1-logloss:-0.000977\n",
      "[87]\tvalidation_0-logloss:-0.001116\tvalidation_1-logloss:-0.001003\n",
      "[88]\tvalidation_0-logloss:-0.001143\tvalidation_1-logloss:-0.001033\n",
      "[89]\tvalidation_0-logloss:-0.00116\tvalidation_1-logloss:-0.001055\n",
      "[90]\tvalidation_0-logloss:-0.001177\tvalidation_1-logloss:-0.001072\n",
      "[91]\tvalidation_0-logloss:-0.001191\tvalidation_1-logloss:-0.001082\n",
      "[92]\tvalidation_0-logloss:-0.001202\tvalidation_1-logloss:-0.001093\n",
      "[93]\tvalidation_0-logloss:-0.001208\tvalidation_1-logloss:-0.001106\n",
      "[94]\tvalidation_0-logloss:-0.001222\tvalidation_1-logloss:-0.001117\n",
      "[95]\tvalidation_0-logloss:-0.001227\tvalidation_1-logloss:-0.001128\n",
      "[96]\tvalidation_0-logloss:-0.001236\tvalidation_1-logloss:-0.001133\n",
      "[97]\tvalidation_0-logloss:-0.001239\tvalidation_1-logloss:-0.001134\n",
      "[98]\tvalidation_0-logloss:-0.001242\tvalidation_1-logloss:-0.00114\n",
      "[99]\tvalidation_0-logloss:-0.001248\tvalidation_1-logloss:-0.001145\n",
      "[100]\tvalidation_0-logloss:-0.001253\tvalidation_1-logloss:-0.001148\n",
      "[101]\tvalidation_0-logloss:-0.001257\tvalidation_1-logloss:-0.001152\n",
      "[102]\tvalidation_0-logloss:-0.001263\tvalidation_1-logloss:-0.001156\n",
      "[103]\tvalidation_0-logloss:-0.00127\tvalidation_1-logloss:-0.00116\n",
      "[104]\tvalidation_0-logloss:-0.001273\tvalidation_1-logloss:-0.001164\n",
      "[105]\tvalidation_0-logloss:-0.001277\tvalidation_1-logloss:-0.001161\n",
      "[106]\tvalidation_0-logloss:-0.001278\tvalidation_1-logloss:-0.001167\n",
      "[107]\tvalidation_0-logloss:-0.001282\tvalidation_1-logloss:-0.001168\n",
      "[108]\tvalidation_0-logloss:-0.001284\tvalidation_1-logloss:-0.001171\n",
      "[109]\tvalidation_0-logloss:-0.001286\tvalidation_1-logloss:-0.001172\n",
      "[110]\tvalidation_0-logloss:-0.00129\tvalidation_1-logloss:-0.001175\n",
      "[111]\tvalidation_0-logloss:-0.001295\tvalidation_1-logloss:-0.00118\n",
      "[112]\tvalidation_0-logloss:-0.001296\tvalidation_1-logloss:-0.00118\n",
      "[113]\tvalidation_0-logloss:-0.0013\tvalidation_1-logloss:-0.001181\n",
      "[114]\tvalidation_0-logloss:-0.0013\tvalidation_1-logloss:-0.001181\n",
      "[115]\tvalidation_0-logloss:-0.001299\tvalidation_1-logloss:-0.001185\n",
      "[116]\tvalidation_0-logloss:-0.001301\tvalidation_1-logloss:-0.001185\n",
      "[117]\tvalidation_0-logloss:-0.001301\tvalidation_1-logloss:-0.001186\n",
      "[118]\tvalidation_0-logloss:-0.001302\tvalidation_1-logloss:-0.001186\n",
      "[119]\tvalidation_0-logloss:-0.001304\tvalidation_1-logloss:-0.001186\n",
      "[120]\tvalidation_0-logloss:-0.001304\tvalidation_1-logloss:-0.001186\n",
      "[121]\tvalidation_0-logloss:-0.001305\tvalidation_1-logloss:-0.001188\n",
      "[122]\tvalidation_0-logloss:-0.001305\tvalidation_1-logloss:-0.00119\n"
     ]
    },
    {
     "name": "stdout",
     "output_type": "stream",
     "text": [
      "[123]\tvalidation_0-logloss:-0.001306\tvalidation_1-logloss:-0.00119\n",
      "[124]\tvalidation_0-logloss:-0.001308\tvalidation_1-logloss:-0.001192\n",
      "[125]\tvalidation_0-logloss:-0.001309\tvalidation_1-logloss:-0.001193\n",
      "[126]\tvalidation_0-logloss:-0.001309\tvalidation_1-logloss:-0.001193\n",
      "[127]\tvalidation_0-logloss:-0.001311\tvalidation_1-logloss:-0.001196\n",
      "[128]\tvalidation_0-logloss:-0.001313\tvalidation_1-logloss:-0.001196\n",
      "[129]\tvalidation_0-logloss:-0.001314\tvalidation_1-logloss:-0.001195\n",
      "[130]\tvalidation_0-logloss:-0.001313\tvalidation_1-logloss:-0.001196\n",
      "[131]\tvalidation_0-logloss:-0.001313\tvalidation_1-logloss:-0.001197\n",
      "[132]\tvalidation_0-logloss:-0.001314\tvalidation_1-logloss:-0.001197\n",
      "[133]\tvalidation_0-logloss:-0.001315\tvalidation_1-logloss:-0.001195\n",
      "[134]\tvalidation_0-logloss:-0.001317\tvalidation_1-logloss:-0.001195\n",
      "[135]\tvalidation_0-logloss:-0.001318\tvalidation_1-logloss:-0.001195\n",
      "[136]\tvalidation_0-logloss:-0.001319\tvalidation_1-logloss:-0.001196\n",
      "[137]\tvalidation_0-logloss:-0.001319\tvalidation_1-logloss:-0.001196\n",
      "[138]\tvalidation_0-logloss:-0.00132\tvalidation_1-logloss:-0.001199\n",
      "[139]\tvalidation_0-logloss:-0.001323\tvalidation_1-logloss:-0.0012\n",
      "[140]\tvalidation_0-logloss:-0.001327\tvalidation_1-logloss:-0.0012\n",
      "[141]\tvalidation_0-logloss:-0.001333\tvalidation_1-logloss:-0.0012\n",
      "[142]\tvalidation_0-logloss:-0.001334\tvalidation_1-logloss:-0.001204\n",
      "[143]\tvalidation_0-logloss:-0.001337\tvalidation_1-logloss:-0.001205\n",
      "[144]\tvalidation_0-logloss:-0.001335\tvalidation_1-logloss:-0.001205\n",
      "[145]\tvalidation_0-logloss:-0.001336\tvalidation_1-logloss:-0.001204\n",
      "[146]\tvalidation_0-logloss:-0.001339\tvalidation_1-logloss:-0.001204\n",
      "[147]\tvalidation_0-logloss:-0.001341\tvalidation_1-logloss:-0.001206\n",
      "[148]\tvalidation_0-logloss:-0.001347\tvalidation_1-logloss:-0.001207\n",
      "[149]\tvalidation_0-logloss:-0.001346\tvalidation_1-logloss:-0.00121\n",
      "[150]\tvalidation_0-logloss:-0.001344\tvalidation_1-logloss:-0.00121\n",
      "[151]\tvalidation_0-logloss:-0.001346\tvalidation_1-logloss:-0.00121\n",
      "[152]\tvalidation_0-logloss:-0.001347\tvalidation_1-logloss:-0.00121\n",
      "[153]\tvalidation_0-logloss:-0.001348\tvalidation_1-logloss:-0.001211\n",
      "[154]\tvalidation_0-logloss:-0.001348\tvalidation_1-logloss:-0.001211\n",
      "[155]\tvalidation_0-logloss:-0.001353\tvalidation_1-logloss:-0.00121\n",
      "[156]\tvalidation_0-logloss:-0.001359\tvalidation_1-logloss:-0.001211\n",
      "[157]\tvalidation_0-logloss:-0.001357\tvalidation_1-logloss:-0.001212\n",
      "[158]\tvalidation_0-logloss:-0.001359\tvalidation_1-logloss:-0.001212\n",
      "[159]\tvalidation_0-logloss:-0.001361\tvalidation_1-logloss:-0.001213\n",
      "[160]\tvalidation_0-logloss:-0.001361\tvalidation_1-logloss:-0.001213\n",
      "[161]\tvalidation_0-logloss:-0.001362\tvalidation_1-logloss:-0.001214\n",
      "[162]\tvalidation_0-logloss:-0.001368\tvalidation_1-logloss:-0.00122\n",
      "[163]\tvalidation_0-logloss:-0.001366\tvalidation_1-logloss:-0.001222\n",
      "[164]\tvalidation_0-logloss:-0.001366\tvalidation_1-logloss:-0.001221\n",
      "[165]\tvalidation_0-logloss:-0.001371\tvalidation_1-logloss:-0.001218\n",
      "[166]\tvalidation_0-logloss:-0.001375\tvalidation_1-logloss:-0.001218\n",
      "[167]\tvalidation_0-logloss:-0.001374\tvalidation_1-logloss:-0.001222\n",
      "[168]\tvalidation_0-logloss:-0.001374\tvalidation_1-logloss:-0.001222\n",
      "[169]\tvalidation_0-logloss:-0.001374\tvalidation_1-logloss:-0.001222\n",
      "[170]\tvalidation_0-logloss:-0.001378\tvalidation_1-logloss:-0.001222\n",
      "[171]\tvalidation_0-logloss:-0.001381\tvalidation_1-logloss:-0.001219\n",
      "[172]\tvalidation_0-logloss:-0.001384\tvalidation_1-logloss:-0.001223\n",
      "[173]\tvalidation_0-logloss:-0.001387\tvalidation_1-logloss:-0.001223\n",
      "[174]\tvalidation_0-logloss:-0.001388\tvalidation_1-logloss:-0.001225\n",
      "[175]\tvalidation_0-logloss:-0.00139\tvalidation_1-logloss:-0.001225\n",
      "[176]\tvalidation_0-logloss:-0.001394\tvalidation_1-logloss:-0.001228\n",
      "[177]\tvalidation_0-logloss:-0.001394\tvalidation_1-logloss:-0.001228\n",
      "[178]\tvalidation_0-logloss:-0.001395\tvalidation_1-logloss:-0.001228\n",
      "[179]\tvalidation_0-logloss:-0.001395\tvalidation_1-logloss:-0.001229\n",
      "[180]\tvalidation_0-logloss:-0.001399\tvalidation_1-logloss:-0.001231\n",
      "[181]\tvalidation_0-logloss:-0.0014\tvalidation_1-logloss:-0.001232\n",
      "[182]\tvalidation_0-logloss:-0.0014\tvalidation_1-logloss:-0.001232\n",
      "[183]\tvalidation_0-logloss:-0.0014\tvalidation_1-logloss:-0.001232\n",
      "[184]\tvalidation_0-logloss:-0.0014\tvalidation_1-logloss:-0.001234\n",
      "[185]\tvalidation_0-logloss:-0.001406\tvalidation_1-logloss:-0.001232\n",
      "[186]\tvalidation_0-logloss:-0.001406\tvalidation_1-logloss:-0.001233\n",
      "[187]\tvalidation_0-logloss:-0.001406\tvalidation_1-logloss:-0.001233\n",
      "[188]\tvalidation_0-logloss:-0.001407\tvalidation_1-logloss:-0.001235\n",
      "[189]\tvalidation_0-logloss:-0.001409\tvalidation_1-logloss:-0.001233\n",
      "[190]\tvalidation_0-logloss:-0.001411\tvalidation_1-logloss:-0.001238\n",
      "[191]\tvalidation_0-logloss:-0.001412\tvalidation_1-logloss:-0.001237\n",
      "[192]\tvalidation_0-logloss:-0.001413\tvalidation_1-logloss:-0.001237\n",
      "[193]\tvalidation_0-logloss:-0.001412\tvalidation_1-logloss:-0.001237\n",
      "[194]\tvalidation_0-logloss:-0.001414\tvalidation_1-logloss:-0.001238\n",
      "[195]\tvalidation_0-logloss:-0.001414\tvalidation_1-logloss:-0.001239\n",
      "[196]\tvalidation_0-logloss:-0.001416\tvalidation_1-logloss:-0.00124\n",
      "[197]\tvalidation_0-logloss:-0.001416\tvalidation_1-logloss:-0.001242\n",
      "[198]\tvalidation_0-logloss:-0.001417\tvalidation_1-logloss:-0.001241\n",
      "[199]\tvalidation_0-logloss:-0.001416\tvalidation_1-logloss:-0.001241\n",
      "[200]\tvalidation_0-logloss:-0.001415\tvalidation_1-logloss:-0.001239\n",
      "[201]\tvalidation_0-logloss:-0.001416\tvalidation_1-logloss:-0.001241\n",
      "[202]\tvalidation_0-logloss:-0.00142\tvalidation_1-logloss:-0.001237\n",
      "[203]\tvalidation_0-logloss:-0.00142\tvalidation_1-logloss:-0.001236\n",
      "[204]\tvalidation_0-logloss:-0.001421\tvalidation_1-logloss:-0.001237\n",
      "[205]\tvalidation_0-logloss:-0.001422\tvalidation_1-logloss:-0.001241\n",
      "[206]\tvalidation_0-logloss:-0.001424\tvalidation_1-logloss:-0.001241\n",
      "[207]\tvalidation_0-logloss:-0.001424\tvalidation_1-logloss:-0.001242\n",
      "Stopping. Best iteration:\n",
      "[197]\tvalidation_0-logloss:-0.001416\tvalidation_1-logloss:-0.001242\n",
      "\n",
      "Accuracy: 18.85%\n"
     ]
    }
   ],
   "source": [
    "# Evaulate how the model trains. Try to find the early stopping point once the model starts\n",
    "# to overfit\n",
    "eval_set = ([x_split_train,y_split_train],[x_split_test, y_split_test])\n",
    "XGBmodel = XGBRegressor(learning_rate = 0.1, max_depth = 4, min_child_weight = 5, n_estimators = 1000)\n",
    "XGBmodel.fit(x_split_train, y_split_train, sample_weight = x_split_train_weight, early_stopping_rounds = 10, eval_metric=[\"logloss\"], eval_set=eval_set, verbose=True)\n",
    "# make predictions for test data\n",
    "y_pred = XGBmodel.predict(x_split_test)\n",
    "# evaluate predictions\n",
    "accuracy = r2_score(y_split_test, y_pred)\n",
    "print(\"Accuracy: %.2f%%\" % (accuracy * 100.0))\n",
    "# retrieve performance metrics\n",
    "results = XGBmodel.evals_result()\n",
    "epochs = len(results['validation_0']['logloss'])\n",
    "x_axis = range(0, epochs)\n"
   ]
  },
  {
   "cell_type": "code",
   "execution_count": 145,
   "metadata": {},
   "outputs": [
    {
     "data": {
      "image/png": "[encoded data removed]",
      "text/plain": [
       "<matplotlib.figure.Figure at 0x1a0d8fbf28>"
      ]
     },
     "metadata": {},
     "output_type": "display_data"
    }
   ],
   "source": [
    "# plot log loss\n",
    "fig, ax = plt.subplots()\n",
    "ax.plot(x_axis[200:800], results['validation_0']['logloss'][200:800], label='Train')\n",
    "ax.plot(x_axis[200:800], results['validation_1']['logloss'][200:800], label='Test')\n",
    "ax.legend()\n",
    "plt.ylabel('Log Loss')\n",
    "plt.title('XGBoost Log Loss')\n",
    "plt.show()\n"
   ]
  },
  {
   "cell_type": "code",
   "execution_count": 108,
   "metadata": {},
   "outputs": [
    {
     "name": "stdout",
     "output_type": "stream",
     "text": [
      "Took 1 seconds\n"
     ]
    }
   ],
   "source": [
    "timer(starttime)"
   ]
  },
  {
   "cell_type": "code",
   "execution_count": 150,
   "metadata": {},
   "outputs": [
    {
     "ename": "AttributeError",
     "evalue": "'numpy.ndarray' object has no attribute 'describe'",
     "output_type": "error",
     "traceback": [
      "\u001b[0;31m---------------------------------------------------------------------------\u001b[0m",
      "\u001b[0;31mAttributeError\u001b[0m                            Traceback (most recent call last)",
      "\u001b[0;32m<ipython-input-150-42a504a2bb65>\u001b[0m in \u001b[0;36m<module>\u001b[0;34m()\u001b[0m\n\u001b[1;32m      1\u001b[0m \u001b[0mtestavg\u001b[0m \u001b[0;34m=\u001b[0m \u001b[0;34m[\u001b[0m\u001b[0;36m1\u001b[0m\u001b[0;34m,\u001b[0m\u001b[0;36m2\u001b[0m\u001b[0;34m,\u001b[0m\u001b[0;36m3\u001b[0m\u001b[0;34m]\u001b[0m\u001b[0;34m\u001b[0m\u001b[0m\n\u001b[0;32m----> 2\u001b[0;31m \u001b[0mnp\u001b[0m\u001b[0;34m.\u001b[0m\u001b[0marray\u001b[0m\u001b[0;34m(\u001b[0m\u001b[0mtestavg\u001b[0m\u001b[0;34m)\u001b[0m\u001b[0;34m.\u001b[0m\u001b[0mdescribe\u001b[0m\u001b[0;34m(\u001b[0m\u001b[0;34m)\u001b[0m\u001b[0;34m\u001b[0m\u001b[0m\n\u001b[0m",
      "\u001b[0;31mAttributeError\u001b[0m: 'numpy.ndarray' object has no attribute 'describe'"
     ]
    }
   ],
   "source": [
    "testavg = [1,2,3]\n",
    "np.array(testavg).describe()"
   ]
  },
  {
   "cell_type": "code",
   "execution_count": null,
   "metadata": {},
   "outputs": [],
   "source": [
    "#If the average log loss does not decrease over N rounds, stop model training\n",
    "def xgb_stop_early(average_loss_rounds = 20):\n",
    "    # Evaulate how the model trains. Try to find the early stopping point once the model starts\n",
    "# to overfit\n",
    "    eval_set = ([x_split_train,y_split_train],[x_split_test, y_split_test])\n",
    "    XGBmodel = XGBRegressor(learning_rate = 0.1, max_depth = 4, min_child_weight = 5, n_estimators = 1000)\n",
    "    XGBmodel.fit(x_split_train, y_split_train, sample_weight = x_split_train_weight, eval_metric=[\"error\", \"logloss\"], eval_set=eval_set, verbose=True)\n",
    "    # make predictions for test data\n",
    "    y_pred = XGBmodel.predict(x_split_test)\n",
    "    # evaluate predictions\n",
    "    accuracy = r2_score(y_split_test, y_pred)\n",
    "    print(\"Accuracy: %.2f%%\" % (accuracy * 100.0))\n",
    "    # retrieve performance metrics\n",
    "    results = XGBmodel.evals_result()\n",
    "    epochs = len(results['validation_0']['error'])\n",
    "    x_axis = range(0, epochs)"
   ]
  }
 ],
 "metadata": {
  "kernelspec": {
   "display_name": "Python 3",
   "language": "python",
   "name": "python3"
  },
  "language_info": {
   "codemirror_mode": {
    "name": "ipython",
    "version": 3
   },
   "file_extension": ".py",
   "mimetype": "text/x-python",
   "name": "python",
   "nbconvert_exporter": "python",
   "pygments_lexer": "ipython3",
   "version": "3.6.4"
  }
 },
 "nbformat": 4,
 "nbformat_minor": 2
}
